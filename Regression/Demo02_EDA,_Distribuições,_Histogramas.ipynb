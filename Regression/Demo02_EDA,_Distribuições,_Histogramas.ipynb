{
  "nbformat": 4,
  "nbformat_minor": 0,
  "metadata": {
    "colab": {
      "provenance": []
    },
    "kernelspec": {
      "name": "python3",
      "display_name": "Python 3"
    }
  },
  "cells": [
    {
      "cell_type": "markdown",
      "metadata": {
        "id": "rHLcriKWLRe4"
      },
      "source": [
        "# Análise da Distribuicao dos Dados\n",
        "\n",
        "Histogramas, Scatterplots, etc\n",
        "\n",
        "Análise Univariada e Bivariada"
      ]
    },
    {
      "cell_type": "markdown",
      "metadata": {
        "id": "0eDvqelTCQA6"
      },
      "source": [
        "## Imports"
      ]
    },
    {
      "cell_type": "code",
      "metadata": {
        "id": "kXrYNRBuCKja"
      },
      "source": [
        "import pandas as pd\n",
        "import seaborn as sns\n",
        "import matplotlib.pyplot as plt\n",
        "%matplotlib inline"
      ],
      "execution_count": null,
      "outputs": []
    },
    {
      "cell_type": "markdown",
      "metadata": {
        "id": "XtYZ7114n3b-"
      },
      "source": [
        "## Carregando o Dataset"
      ]
    },
    {
      "cell_type": "markdown",
      "source": [
        "Leitura do CSV"
      ],
      "metadata": {
        "id": "BA-7JPlumRY-"
      }
    },
    {
      "cell_type": "code",
      "metadata": {
        "id": "JSgOlLnMbDau"
      },
      "source": [
        "# toy dataset\n",
        "df = pd.read_csv('https://docs.google.com/uc?export=download&id=1ArGT0_cisUUh3QXW9tYM39azFQZDUnow')\n",
        "df"
      ],
      "execution_count": null,
      "outputs": []
    },
    {
      "cell_type": "markdown",
      "source": [
        "Algumas modificações no Dataset para torná-lo mais interessante nos exemplos"
      ],
      "metadata": {
        "id": "DlGkyRIZmYjB"
      }
    },
    {
      "cell_type": "code",
      "source": [
        "df['Income'].mask((df['Gender'] == 'Male')&(~df['City'].isin(['Dallas','Austin'])), df['Income']*0.8, inplace=True)\n",
        "df['Income'].mask(df['Gender'] == 'Male', df['Income']*(df['Age']*1.5/100), inplace=True)\n",
        "df['Income'].mask(df['Gender'] == 'Female', df['Income']*((df['Age']-4)*1.5/100), inplace=True)\n",
        "df['Income'].mask((df['Gender'] == 'Female')&(df['Income']>=60000)&(df['Income']<=110000), df['Income']*0.95, inplace=True)"
      ],
      "metadata": {
        "id": "yclATdl5IJhT"
      },
      "execution_count": null,
      "outputs": []
    },
    {
      "cell_type": "markdown",
      "source": [
        "O código abaixo adiciona / remove um outlier. Não executar isso na primeira análise."
      ],
      "metadata": {
        "id": "Uve7EP33NSuS"
      }
    },
    {
      "cell_type": "code",
      "source": [
        "# Adiciona\n",
        "# df['Income'].mask(df['Number'] == 112681, df['Income']*10, inplace=True)\n",
        "\n",
        "# Remove (se já tiver adicionado)\n",
        "# df['Income'].mask(df['Number'] == 112681, df['Income']/10, inplace=True)"
      ],
      "metadata": {
        "id": "jt5upETUNwEI"
      },
      "execution_count": null,
      "outputs": []
    },
    {
      "cell_type": "markdown",
      "source": [
        "## Histogramas"
      ],
      "metadata": {
        "id": "CQLpfocomxxd"
      }
    },
    {
      "cell_type": "markdown",
      "source": [
        "Frequência"
      ],
      "metadata": {
        "id": "DiCNFE5rnAAT"
      }
    },
    {
      "cell_type": "code",
      "source": [
        "df.Age.value_counts(sort=False)"
      ],
      "metadata": {
        "id": "C97ZPTLR522H"
      },
      "execution_count": null,
      "outputs": []
    },
    {
      "cell_type": "markdown",
      "source": [
        "Frequência normalizada"
      ],
      "metadata": {
        "id": "cq7o1WBInGK-"
      }
    },
    {
      "cell_type": "code",
      "source": [
        "df.Age.value_counts(normalize=True, sort=False)"
      ],
      "metadata": {
        "id": "VQ3RmwXqiva8"
      },
      "execution_count": null,
      "outputs": []
    },
    {
      "cell_type": "markdown",
      "source": [
        "Bar plot a partir da frequência"
      ],
      "metadata": {
        "id": "U6iYKhcTna1Q"
      }
    },
    {
      "cell_type": "code",
      "source": [
        "plt.figure(figsize=(10,10))\n",
        "df.Age.value_counts(normalize=True, sort=False).plot.bar()\n",
        "plt.show()"
      ],
      "metadata": {
        "id": "JtS5BmaAu7hE"
      },
      "execution_count": null,
      "outputs": []
    },
    {
      "cell_type": "markdown",
      "source": [
        "Histograma a partir do dataframe pandas"
      ],
      "metadata": {
        "id": "uSgyNi8JngUm"
      }
    },
    {
      "cell_type": "code",
      "source": [
        "nbins=len(df['Age'].unique())\n",
        "df.hist('Age', bins=nbins, rwidth=0.8, figsize=[15,10])"
      ],
      "metadata": {
        "id": "EGqXkWi1kSOj"
      },
      "execution_count": null,
      "outputs": []
    },
    {
      "cell_type": "markdown",
      "source": [
        "Histograma com mapplotlib.pyplot ([documentação](https://matplotlib.org/stable/api/_as_gen/matplotlib.pyplot.hist.html))"
      ],
      "metadata": {
        "id": "zDiRfyOinnK0"
      }
    },
    {
      "cell_type": "code",
      "source": [
        "nbins=len(df['Age'].unique())\n",
        "\n",
        "plt.figure(figsize=(15,10))\n",
        "\n",
        "plt.hist(x=df.Age, color='green', bins=nbins, alpha=0.5, rwidth=0.9)\n",
        "\n",
        "plt.grid(axis='y', alpha=0.7)\n",
        "plt.xlabel('Idade')\n",
        "plt.ylabel('Frequência')\n",
        "plt.title('Frequência das idades')\n"
      ],
      "metadata": {
        "id": "qazEd8qBvo3O"
      },
      "execution_count": null,
      "outputs": []
    },
    {
      "cell_type": "markdown",
      "source": [
        "Múltiplos histogramas"
      ],
      "metadata": {
        "id": "Ti7STotAormN"
      }
    },
    {
      "cell_type": "code",
      "source": [
        "# tamanho do gráfico\n",
        "plt.figure(figsize=(20,8))\n",
        "\n",
        "# Lista de Gêneros\n",
        "genders = ['Male', 'Female']\n",
        "\n",
        "# Itera nos gêneros\n",
        "i = 1\n",
        "for gender in genders:\n",
        "\n",
        "    # Sub dataframe para cada gênero \n",
        "    subdf = df[df['Gender'] == gender]\n",
        "\n",
        "    # Define o plot\n",
        "    ax = plt.subplot(1, 2, i)\n",
        "\n",
        "    # Desenha o plot\n",
        "    ax.hist(x=subdf.Income, bins = 30,\n",
        "              color = 'blue', edgecolor = 'black')\n",
        "\n",
        "    # Título, rótulos\n",
        "    ax.set_title('Histograma das Rendas de %s'%gender, size = 20)\n",
        "    ax.set_xlabel('Renda', size = 15)\n",
        "    ax.set_ylabel('Frequência', size= 15)\n",
        "\n",
        "    i=i+1"
      ],
      "metadata": {
        "id": "Q-TEZ_OokPWN"
      },
      "execution_count": null,
      "outputs": []
    },
    {
      "cell_type": "markdown",
      "source": [
        "Histograma com Seaborn hisplot() [(documentação](https://seaborn.pydata.org/generated/seaborn.histplot.html#seaborn.histplot))"
      ],
      "metadata": {
        "id": "s629oHZ_oMbl"
      }
    },
    {
      "cell_type": "code",
      "source": [
        "# seaborn\n",
        "nbins=len(df['City'].unique())\n",
        "\n",
        "plt.figure(figsize=(15,10))\n",
        "\n",
        "sns.histplot(x=df.City, \n",
        "             bins=nbins, color = 'red')\n",
        "\n",
        "plt.grid(axis='y', alpha=0.7)\n",
        "plt.xlabel('Cidade')\n",
        "plt.ylabel('Frequência')\n",
        "plt.title('Histogramas das cidades')"
      ],
      "metadata": {
        "id": "SeyK8jubBsY3"
      },
      "execution_count": null,
      "outputs": []
    },
    {
      "cell_type": "markdown",
      "source": [
        "## KDE (Kernel Density Estimation)"
      ],
      "metadata": {
        "id": "r9qV_Db4o2B0"
      }
    },
    {
      "cell_type": "markdown",
      "source": [
        "Plotando KDE e histograma com Seaborn displot() ([documentação](https://seaborn.pydata.org/generated/seaborn.displot.html#seaborn.displot))"
      ],
      "metadata": {
        "id": "nH6zibs_o7-2"
      }
    },
    {
      "cell_type": "code",
      "source": [
        "sns.displot(data=df, x='Income', kde=True, bins=50, color = 'red', height=7, aspect=1.5) "
      ],
      "metadata": {
        "id": "TbZAicIYFefq"
      },
      "execution_count": null,
      "outputs": []
    },
    {
      "cell_type": "markdown",
      "source": [
        "Somente o KDE (sem histograma). Plotagem de múltiplos KDEs."
      ],
      "metadata": {
        "id": "-6-pM-pVpQle"
      }
    },
    {
      "cell_type": "code",
      "source": [
        "g = sns.displot(data=df, x='Income', hue=\"Gender\", kind='kde')"
      ],
      "metadata": {
        "id": "0MOs9saGe9xn"
      },
      "execution_count": null,
      "outputs": []
    },
    {
      "cell_type": "markdown",
      "source": [
        "Múltiplos histogramas com Seaborn"
      ],
      "metadata": {
        "id": "UgRsq0mipfY1"
      }
    },
    {
      "cell_type": "code",
      "source": [
        "g = sns.displot(data=df, x='Income', hue=\"Gender\", col='Gender', height=5, aspect=1.5)\n",
        "g.set_titles('Histograma de Renda para Homens e Mulheres')\n",
        "g.set_axis_labels(\"Renda\", \"Frequência\")\n",
        "g.set_titles(\"{col_name}\")"
      ],
      "metadata": {
        "id": "caBOw43JaV2c"
      },
      "execution_count": null,
      "outputs": []
    },
    {
      "cell_type": "markdown",
      "source": [
        "Múltiplos histogramas sobrepostos\n",
        "\n",
        "Quantidade de bins `auto`"
      ],
      "metadata": {
        "id": "zaMMXun8pmuY"
      }
    },
    {
      "cell_type": "code",
      "source": [
        "g = sns.displot(data=df, x='Income', hue=\"Gender\", height=8, aspect=2.0, bins='auto')\n",
        "g.set_axis_labels(\"Renda\", \"Frequência\")"
      ],
      "metadata": {
        "id": "Q7B6RbhsgC3L"
      },
      "execution_count": null,
      "outputs": []
    },
    {
      "cell_type": "markdown",
      "source": [
        "Usando o [Método de Sturges](https://en.wikipedia.org/wiki/Histogram#Sturges.27_formula) para definir o número de bins"
      ],
      "metadata": {
        "id": "rKM8tRjpRuic"
      }
    },
    {
      "cell_type": "code",
      "source": [
        "g = sns.displot(data=df, x='Income', hue=\"Gender\", height=8, aspect=2.0, bins='sturges')\n",
        "g.set_axis_labels(\"Renda\", \"Frequência\")"
      ],
      "metadata": {
        "id": "H_3WHWozRhRQ"
      },
      "execution_count": null,
      "outputs": []
    },
    {
      "cell_type": "markdown",
      "source": [
        "## Scatter Plot (gráfico de dispersão)"
      ],
      "metadata": {
        "id": "sT0H6mMuv6fm"
      }
    },
    {
      "cell_type": "code",
      "source": [
        "df['y'] = 'Dist'\n",
        "\n",
        "plt.figure(figsize=(20,10))\n",
        "\n",
        "plt.scatter(df.Income, y=df.y)\n",
        "\n",
        "df.drop('y', axis=1, inplace=True)\n",
        "\n",
        "plt.xlabel('Renda')\n",
        "plt.title('Dist. da Renda')"
      ],
      "metadata": {
        "id": "FHB3eibpwFED"
      },
      "execution_count": null,
      "outputs": []
    },
    {
      "cell_type": "code",
      "source": [
        "df['y'] = 'Dist'\n",
        "\n",
        "plt.figure(figsize=(20,10))\n",
        "\n",
        "dfm = df[df['Gender']=='Male']\n",
        "\n",
        "plt.scatter(dfm.Income, y=dfm.y)\n",
        "\n",
        "df.drop('y', axis=1, inplace=True)\n",
        "\n",
        "plt.xlabel('Renda')\n",
        "plt.title('Dist. da Renda')"
      ],
      "metadata": {
        "id": "8HaqdCZZ701D"
      },
      "execution_count": null,
      "outputs": []
    },
    {
      "cell_type": "code",
      "source": [
        "plt.figure(figsize=(20,10))\n",
        "\n",
        "dfm = df[df['Gender']=='Female']\n",
        "\n",
        "# dfm = df[(df['Gender']=='Male')&(df['City']=='Dallas')]\n",
        "\n",
        "plt.scatter(dfm.Income, y=dfm.index)\n",
        "\n",
        "plt.show()\n"
      ],
      "metadata": {
        "id": "iReJ_jON1ZGR"
      },
      "execution_count": null,
      "outputs": []
    },
    {
      "cell_type": "markdown",
      "source": [
        "## Análise Biavariada\n",
        "\n",
        "(as análises anteriores são Univariadas)"
      ],
      "metadata": {
        "id": "Ww4802qpu-aT"
      }
    },
    {
      "cell_type": "code",
      "source": [
        "sns.displot(data=df, x='Income', y=\"City\", height=8, aspect=2.0)"
      ],
      "metadata": {
        "id": "z6z1Jo21qUW5"
      },
      "execution_count": null,
      "outputs": []
    },
    {
      "cell_type": "code",
      "source": [
        "sns.displot(data=df, x='Income', y=\"Age\", height=8, aspect=2.0)"
      ],
      "metadata": {
        "id": "j6r95WC5qrkT"
      },
      "execution_count": null,
      "outputs": []
    },
    {
      "cell_type": "code",
      "source": [
        "df[df['Income']<5000]"
      ],
      "metadata": {
        "id": "U2vHZHkFrL9k"
      },
      "execution_count": null,
      "outputs": []
    },
    {
      "cell_type": "code",
      "source": [
        "g = sns.displot(data=df, x='Income', y='Age', hue=\"Gender\", col='Gender', height=5, aspect=1.5)\n",
        "g.set_titles('Histograma de Renda para Homens e Mulheres')\n",
        "g.set_axis_labels(\"Renda\", \"Frequência\")\n",
        "g.set_titles(\"{col_name}\")"
      ],
      "metadata": {
        "id": "tjS3--UutMR_"
      },
      "execution_count": null,
      "outputs": []
    },
    {
      "cell_type": "markdown",
      "source": [
        "Calculando o KDE \n",
        "\n",
        "(muito custoso)"
      ],
      "metadata": {
        "id": "y-X5-YXQuyAo"
      }
    },
    {
      "cell_type": "code",
      "source": [
        "#sns.displot(data=df, x='Income', y=\"Age\", kind=\"kde\", height=8, aspect=2.0)"
      ],
      "metadata": {
        "id": "dcBB7rWouvs4"
      },
      "execution_count": null,
      "outputs": []
    },
    {
      "cell_type": "markdown",
      "source": [
        "Calculando em uma amostra aleatória de 1% (pandas sample() [link text](https://pandas.pydata.org/docs/reference/api/pandas.DataFrame.sample.html))"
      ],
      "metadata": {
        "id": "Wfeq8K56ueXb"
      }
    },
    {
      "cell_type": "code",
      "source": [
        "sns.displot(data=df.sample(frac=0.01), x='Income', y=\"Age\", kind=\"kde\", height=8, aspect=2.0)"
      ],
      "metadata": {
        "id": "OpdiZygUsLM1"
      },
      "execution_count": null,
      "outputs": []
    },
    {
      "cell_type": "code",
      "source": [
        "plt.figure(figsize=(20,10))\n",
        "\n",
        "plt.scatter(df.Income, y=df.City)\n",
        "\n",
        "plt.show()"
      ],
      "metadata": {
        "id": "5lAe-Mfs92K8"
      },
      "execution_count": null,
      "outputs": []
    },
    {
      "cell_type": "code",
      "source": [
        "\n",
        "plt.figure(figsize=(20,10))\n",
        "\n",
        "plt.scatter(df.Income, y=df.Age)\n",
        "\n",
        "plt.show()"
      ],
      "metadata": {
        "id": "-VwXVVCd9_pH"
      },
      "execution_count": null,
      "outputs": []
    },
    {
      "cell_type": "code",
      "source": [
        "plt.figure(figsize=(15,10))\n",
        "\n",
        "df_temp = df[df['Income'] < 20000]\n",
        "plt.hexbin(y=df_temp.Income, x=df_temp.Age)\n",
        "\n",
        "plt.show()"
      ],
      "metadata": {
        "id": "uZf2RJnS-DQx"
      },
      "execution_count": null,
      "outputs": []
    },
    {
      "cell_type": "code",
      "source": [],
      "metadata": {
        "id": "eS8GTLUxL4YX"
      },
      "execution_count": null,
      "outputs": []
    }
  ]
}