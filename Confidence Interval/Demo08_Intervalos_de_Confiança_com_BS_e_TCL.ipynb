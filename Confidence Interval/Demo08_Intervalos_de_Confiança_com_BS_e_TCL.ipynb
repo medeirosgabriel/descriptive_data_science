{
  "nbformat": 4,
  "nbformat_minor": 0,
  "metadata": {
    "colab": {
      "provenance": []
    },
    "kernelspec": {
      "name": "python3",
      "display_name": "Python 3"
    },
    "language_info": {
      "name": "python"
    }
  },
  "cells": [
    {
      "cell_type": "code",
      "source": [
        "import warnings\n",
        "warnings.filterwarnings('ignore')"
      ],
      "metadata": {
        "id": "SiI4B5z78U2H"
      },
      "execution_count": null,
      "outputs": []
    },
    {
      "cell_type": "markdown",
      "source": [
        "# Intervalos de Confiança com Bootstrap"
      ],
      "metadata": {
        "id": "V2MirK-Zzw6b"
      }
    },
    {
      "cell_type": "markdown",
      "source": [
        "### Iris Dataset\n",
        "https://scikit-learn.org/stable/auto_examples/datasets/plot_iris_dataset.html"
      ],
      "metadata": {
        "id": "CUNIMWvu1W5P"
      }
    },
    {
      "cell_type": "code",
      "execution_count": null,
      "metadata": {
        "id": "r7o9vxMFhfe6",
        "colab": {
          "base_uri": "https://localhost:8080/"
        },
        "outputId": "00826467-610e-4f4f-ef6a-0abaafc7887c"
      },
      "outputs": [
        {
          "output_type": "execute_result",
          "data": {
            "text/plain": [
              "{'data': array([[5.1, 3.5, 1.4, 0.2],\n",
              "        [4.9, 3. , 1.4, 0.2],\n",
              "        [4.7, 3.2, 1.3, 0.2],\n",
              "        [4.6, 3.1, 1.5, 0.2],\n",
              "        [5. , 3.6, 1.4, 0.2],\n",
              "        [5.4, 3.9, 1.7, 0.4],\n",
              "        [4.6, 3.4, 1.4, 0.3],\n",
              "        [5. , 3.4, 1.5, 0.2],\n",
              "        [4.4, 2.9, 1.4, 0.2],\n",
              "        [4.9, 3.1, 1.5, 0.1],\n",
              "        [5.4, 3.7, 1.5, 0.2],\n",
              "        [4.8, 3.4, 1.6, 0.2],\n",
              "        [4.8, 3. , 1.4, 0.1],\n",
              "        [4.3, 3. , 1.1, 0.1],\n",
              "        [5.8, 4. , 1.2, 0.2],\n",
              "        [5.7, 4.4, 1.5, 0.4],\n",
              "        [5.4, 3.9, 1.3, 0.4],\n",
              "        [5.1, 3.5, 1.4, 0.3],\n",
              "        [5.7, 3.8, 1.7, 0.3],\n",
              "        [5.1, 3.8, 1.5, 0.3],\n",
              "        [5.4, 3.4, 1.7, 0.2],\n",
              "        [5.1, 3.7, 1.5, 0.4],\n",
              "        [4.6, 3.6, 1. , 0.2],\n",
              "        [5.1, 3.3, 1.7, 0.5],\n",
              "        [4.8, 3.4, 1.9, 0.2],\n",
              "        [5. , 3. , 1.6, 0.2],\n",
              "        [5. , 3.4, 1.6, 0.4],\n",
              "        [5.2, 3.5, 1.5, 0.2],\n",
              "        [5.2, 3.4, 1.4, 0.2],\n",
              "        [4.7, 3.2, 1.6, 0.2],\n",
              "        [4.8, 3.1, 1.6, 0.2],\n",
              "        [5.4, 3.4, 1.5, 0.4],\n",
              "        [5.2, 4.1, 1.5, 0.1],\n",
              "        [5.5, 4.2, 1.4, 0.2],\n",
              "        [4.9, 3.1, 1.5, 0.2],\n",
              "        [5. , 3.2, 1.2, 0.2],\n",
              "        [5.5, 3.5, 1.3, 0.2],\n",
              "        [4.9, 3.6, 1.4, 0.1],\n",
              "        [4.4, 3. , 1.3, 0.2],\n",
              "        [5.1, 3.4, 1.5, 0.2],\n",
              "        [5. , 3.5, 1.3, 0.3],\n",
              "        [4.5, 2.3, 1.3, 0.3],\n",
              "        [4.4, 3.2, 1.3, 0.2],\n",
              "        [5. , 3.5, 1.6, 0.6],\n",
              "        [5.1, 3.8, 1.9, 0.4],\n",
              "        [4.8, 3. , 1.4, 0.3],\n",
              "        [5.1, 3.8, 1.6, 0.2],\n",
              "        [4.6, 3.2, 1.4, 0.2],\n",
              "        [5.3, 3.7, 1.5, 0.2],\n",
              "        [5. , 3.3, 1.4, 0.2],\n",
              "        [7. , 3.2, 4.7, 1.4],\n",
              "        [6.4, 3.2, 4.5, 1.5],\n",
              "        [6.9, 3.1, 4.9, 1.5],\n",
              "        [5.5, 2.3, 4. , 1.3],\n",
              "        [6.5, 2.8, 4.6, 1.5],\n",
              "        [5.7, 2.8, 4.5, 1.3],\n",
              "        [6.3, 3.3, 4.7, 1.6],\n",
              "        [4.9, 2.4, 3.3, 1. ],\n",
              "        [6.6, 2.9, 4.6, 1.3],\n",
              "        [5.2, 2.7, 3.9, 1.4],\n",
              "        [5. , 2. , 3.5, 1. ],\n",
              "        [5.9, 3. , 4.2, 1.5],\n",
              "        [6. , 2.2, 4. , 1. ],\n",
              "        [6.1, 2.9, 4.7, 1.4],\n",
              "        [5.6, 2.9, 3.6, 1.3],\n",
              "        [6.7, 3.1, 4.4, 1.4],\n",
              "        [5.6, 3. , 4.5, 1.5],\n",
              "        [5.8, 2.7, 4.1, 1. ],\n",
              "        [6.2, 2.2, 4.5, 1.5],\n",
              "        [5.6, 2.5, 3.9, 1.1],\n",
              "        [5.9, 3.2, 4.8, 1.8],\n",
              "        [6.1, 2.8, 4. , 1.3],\n",
              "        [6.3, 2.5, 4.9, 1.5],\n",
              "        [6.1, 2.8, 4.7, 1.2],\n",
              "        [6.4, 2.9, 4.3, 1.3],\n",
              "        [6.6, 3. , 4.4, 1.4],\n",
              "        [6.8, 2.8, 4.8, 1.4],\n",
              "        [6.7, 3. , 5. , 1.7],\n",
              "        [6. , 2.9, 4.5, 1.5],\n",
              "        [5.7, 2.6, 3.5, 1. ],\n",
              "        [5.5, 2.4, 3.8, 1.1],\n",
              "        [5.5, 2.4, 3.7, 1. ],\n",
              "        [5.8, 2.7, 3.9, 1.2],\n",
              "        [6. , 2.7, 5.1, 1.6],\n",
              "        [5.4, 3. , 4.5, 1.5],\n",
              "        [6. , 3.4, 4.5, 1.6],\n",
              "        [6.7, 3.1, 4.7, 1.5],\n",
              "        [6.3, 2.3, 4.4, 1.3],\n",
              "        [5.6, 3. , 4.1, 1.3],\n",
              "        [5.5, 2.5, 4. , 1.3],\n",
              "        [5.5, 2.6, 4.4, 1.2],\n",
              "        [6.1, 3. , 4.6, 1.4],\n",
              "        [5.8, 2.6, 4. , 1.2],\n",
              "        [5. , 2.3, 3.3, 1. ],\n",
              "        [5.6, 2.7, 4.2, 1.3],\n",
              "        [5.7, 3. , 4.2, 1.2],\n",
              "        [5.7, 2.9, 4.2, 1.3],\n",
              "        [6.2, 2.9, 4.3, 1.3],\n",
              "        [5.1, 2.5, 3. , 1.1],\n",
              "        [5.7, 2.8, 4.1, 1.3],\n",
              "        [6.3, 3.3, 6. , 2.5],\n",
              "        [5.8, 2.7, 5.1, 1.9],\n",
              "        [7.1, 3. , 5.9, 2.1],\n",
              "        [6.3, 2.9, 5.6, 1.8],\n",
              "        [6.5, 3. , 5.8, 2.2],\n",
              "        [7.6, 3. , 6.6, 2.1],\n",
              "        [4.9, 2.5, 4.5, 1.7],\n",
              "        [7.3, 2.9, 6.3, 1.8],\n",
              "        [6.7, 2.5, 5.8, 1.8],\n",
              "        [7.2, 3.6, 6.1, 2.5],\n",
              "        [6.5, 3.2, 5.1, 2. ],\n",
              "        [6.4, 2.7, 5.3, 1.9],\n",
              "        [6.8, 3. , 5.5, 2.1],\n",
              "        [5.7, 2.5, 5. , 2. ],\n",
              "        [5.8, 2.8, 5.1, 2.4],\n",
              "        [6.4, 3.2, 5.3, 2.3],\n",
              "        [6.5, 3. , 5.5, 1.8],\n",
              "        [7.7, 3.8, 6.7, 2.2],\n",
              "        [7.7, 2.6, 6.9, 2.3],\n",
              "        [6. , 2.2, 5. , 1.5],\n",
              "        [6.9, 3.2, 5.7, 2.3],\n",
              "        [5.6, 2.8, 4.9, 2. ],\n",
              "        [7.7, 2.8, 6.7, 2. ],\n",
              "        [6.3, 2.7, 4.9, 1.8],\n",
              "        [6.7, 3.3, 5.7, 2.1],\n",
              "        [7.2, 3.2, 6. , 1.8],\n",
              "        [6.2, 2.8, 4.8, 1.8],\n",
              "        [6.1, 3. , 4.9, 1.8],\n",
              "        [6.4, 2.8, 5.6, 2.1],\n",
              "        [7.2, 3. , 5.8, 1.6],\n",
              "        [7.4, 2.8, 6.1, 1.9],\n",
              "        [7.9, 3.8, 6.4, 2. ],\n",
              "        [6.4, 2.8, 5.6, 2.2],\n",
              "        [6.3, 2.8, 5.1, 1.5],\n",
              "        [6.1, 2.6, 5.6, 1.4],\n",
              "        [7.7, 3. , 6.1, 2.3],\n",
              "        [6.3, 3.4, 5.6, 2.4],\n",
              "        [6.4, 3.1, 5.5, 1.8],\n",
              "        [6. , 3. , 4.8, 1.8],\n",
              "        [6.9, 3.1, 5.4, 2.1],\n",
              "        [6.7, 3.1, 5.6, 2.4],\n",
              "        [6.9, 3.1, 5.1, 2.3],\n",
              "        [5.8, 2.7, 5.1, 1.9],\n",
              "        [6.8, 3.2, 5.9, 2.3],\n",
              "        [6.7, 3.3, 5.7, 2.5],\n",
              "        [6.7, 3. , 5.2, 2.3],\n",
              "        [6.3, 2.5, 5. , 1.9],\n",
              "        [6.5, 3. , 5.2, 2. ],\n",
              "        [6.2, 3.4, 5.4, 2.3],\n",
              "        [5.9, 3. , 5.1, 1.8]]),\n",
              " 'target': array([0, 0, 0, 0, 0, 0, 0, 0, 0, 0, 0, 0, 0, 0, 0, 0, 0, 0, 0, 0, 0, 0,\n",
              "        0, 0, 0, 0, 0, 0, 0, 0, 0, 0, 0, 0, 0, 0, 0, 0, 0, 0, 0, 0, 0, 0,\n",
              "        0, 0, 0, 0, 0, 0, 1, 1, 1, 1, 1, 1, 1, 1, 1, 1, 1, 1, 1, 1, 1, 1,\n",
              "        1, 1, 1, 1, 1, 1, 1, 1, 1, 1, 1, 1, 1, 1, 1, 1, 1, 1, 1, 1, 1, 1,\n",
              "        1, 1, 1, 1, 1, 1, 1, 1, 1, 1, 1, 1, 2, 2, 2, 2, 2, 2, 2, 2, 2, 2,\n",
              "        2, 2, 2, 2, 2, 2, 2, 2, 2, 2, 2, 2, 2, 2, 2, 2, 2, 2, 2, 2, 2, 2,\n",
              "        2, 2, 2, 2, 2, 2, 2, 2, 2, 2, 2, 2, 2, 2, 2, 2, 2, 2]),\n",
              " 'frame': None,\n",
              " 'target_names': array(['setosa', 'versicolor', 'virginica'], dtype='<U10'),\n",
              " 'DESCR': '.. _iris_dataset:\\n\\nIris plants dataset\\n--------------------\\n\\n**Data Set Characteristics:**\\n\\n    :Number of Instances: 150 (50 in each of three classes)\\n    :Number of Attributes: 4 numeric, predictive attributes and the class\\n    :Attribute Information:\\n        - sepal length in cm\\n        - sepal width in cm\\n        - petal length in cm\\n        - petal width in cm\\n        - class:\\n                - Iris-Setosa\\n                - Iris-Versicolour\\n                - Iris-Virginica\\n                \\n    :Summary Statistics:\\n\\n    ============== ==== ==== ======= ===== ====================\\n                    Min  Max   Mean    SD   Class Correlation\\n    ============== ==== ==== ======= ===== ====================\\n    sepal length:   4.3  7.9   5.84   0.83    0.7826\\n    sepal width:    2.0  4.4   3.05   0.43   -0.4194\\n    petal length:   1.0  6.9   3.76   1.76    0.9490  (high!)\\n    petal width:    0.1  2.5   1.20   0.76    0.9565  (high!)\\n    ============== ==== ==== ======= ===== ====================\\n\\n    :Missing Attribute Values: None\\n    :Class Distribution: 33.3% for each of 3 classes.\\n    :Creator: R.A. Fisher\\n    :Donor: Michael Marshall (MARSHALL%PLU@io.arc.nasa.gov)\\n    :Date: July, 1988\\n\\nThe famous Iris database, first used by Sir R.A. Fisher. The dataset is taken\\nfrom Fisher\\'s paper. Note that it\\'s the same as in R, but not as in the UCI\\nMachine Learning Repository, which has two wrong data points.\\n\\nThis is perhaps the best known database to be found in the\\npattern recognition literature.  Fisher\\'s paper is a classic in the field and\\nis referenced frequently to this day.  (See Duda & Hart, for example.)  The\\ndata set contains 3 classes of 50 instances each, where each class refers to a\\ntype of iris plant.  One class is linearly separable from the other 2; the\\nlatter are NOT linearly separable from each other.\\n\\n.. topic:: References\\n\\n   - Fisher, R.A. \"The use of multiple measurements in taxonomic problems\"\\n     Annual Eugenics, 7, Part II, 179-188 (1936); also in \"Contributions to\\n     Mathematical Statistics\" (John Wiley, NY, 1950).\\n   - Duda, R.O., & Hart, P.E. (1973) Pattern Classification and Scene Analysis.\\n     (Q327.D83) John Wiley & Sons.  ISBN 0-471-22361-1.  See page 218.\\n   - Dasarathy, B.V. (1980) \"Nosing Around the Neighborhood: A New System\\n     Structure and Classification Rule for Recognition in Partially Exposed\\n     Environments\".  IEEE Transactions on Pattern Analysis and Machine\\n     Intelligence, Vol. PAMI-2, No. 1, 67-71.\\n   - Gates, G.W. (1972) \"The Reduced Nearest Neighbor Rule\".  IEEE Transactions\\n     on Information Theory, May 1972, 431-433.\\n   - See also: 1988 MLC Proceedings, 54-64.  Cheeseman et al\"s AUTOCLASS II\\n     conceptual clustering system finds 3 classes in the data.\\n   - Many, many more ...',\n",
              " 'feature_names': ['sepal length (cm)',\n",
              "  'sepal width (cm)',\n",
              "  'petal length (cm)',\n",
              "  'petal width (cm)'],\n",
              " 'filename': 'iris.csv',\n",
              " 'data_module': 'sklearn.datasets.data'}"
            ]
          },
          "metadata": {},
          "execution_count": 2
        }
      ],
      "source": [
        "from sklearn import datasets\n",
        "iris = datasets.load_iris()\n",
        "iris"
      ]
    },
    {
      "cell_type": "markdown",
      "source": [
        "#### Array contendo comprimentos de Sépalas (Sepal Length)"
      ],
      "metadata": {
        "id": "W8hwYjrvz37c"
      }
    },
    {
      "cell_type": "code",
      "source": [
        "data = iris.data[:, :1]\n",
        "data"
      ],
      "metadata": {
        "id": "iPEwfX8ViHaM",
        "colab": {
          "base_uri": "https://localhost:8080/"
        },
        "outputId": "0f7baeee-c3d9-447f-800a-0487f30a3357"
      },
      "execution_count": null,
      "outputs": [
        {
          "output_type": "execute_result",
          "data": {
            "text/plain": [
              "array([[5.1],\n",
              "       [4.9],\n",
              "       [4.7],\n",
              "       [4.6],\n",
              "       [5. ],\n",
              "       [5.4],\n",
              "       [4.6],\n",
              "       [5. ],\n",
              "       [4.4],\n",
              "       [4.9],\n",
              "       [5.4],\n",
              "       [4.8],\n",
              "       [4.8],\n",
              "       [4.3],\n",
              "       [5.8],\n",
              "       [5.7],\n",
              "       [5.4],\n",
              "       [5.1],\n",
              "       [5.7],\n",
              "       [5.1],\n",
              "       [5.4],\n",
              "       [5.1],\n",
              "       [4.6],\n",
              "       [5.1],\n",
              "       [4.8],\n",
              "       [5. ],\n",
              "       [5. ],\n",
              "       [5.2],\n",
              "       [5.2],\n",
              "       [4.7],\n",
              "       [4.8],\n",
              "       [5.4],\n",
              "       [5.2],\n",
              "       [5.5],\n",
              "       [4.9],\n",
              "       [5. ],\n",
              "       [5.5],\n",
              "       [4.9],\n",
              "       [4.4],\n",
              "       [5.1],\n",
              "       [5. ],\n",
              "       [4.5],\n",
              "       [4.4],\n",
              "       [5. ],\n",
              "       [5.1],\n",
              "       [4.8],\n",
              "       [5.1],\n",
              "       [4.6],\n",
              "       [5.3],\n",
              "       [5. ],\n",
              "       [7. ],\n",
              "       [6.4],\n",
              "       [6.9],\n",
              "       [5.5],\n",
              "       [6.5],\n",
              "       [5.7],\n",
              "       [6.3],\n",
              "       [4.9],\n",
              "       [6.6],\n",
              "       [5.2],\n",
              "       [5. ],\n",
              "       [5.9],\n",
              "       [6. ],\n",
              "       [6.1],\n",
              "       [5.6],\n",
              "       [6.7],\n",
              "       [5.6],\n",
              "       [5.8],\n",
              "       [6.2],\n",
              "       [5.6],\n",
              "       [5.9],\n",
              "       [6.1],\n",
              "       [6.3],\n",
              "       [6.1],\n",
              "       [6.4],\n",
              "       [6.6],\n",
              "       [6.8],\n",
              "       [6.7],\n",
              "       [6. ],\n",
              "       [5.7],\n",
              "       [5.5],\n",
              "       [5.5],\n",
              "       [5.8],\n",
              "       [6. ],\n",
              "       [5.4],\n",
              "       [6. ],\n",
              "       [6.7],\n",
              "       [6.3],\n",
              "       [5.6],\n",
              "       [5.5],\n",
              "       [5.5],\n",
              "       [6.1],\n",
              "       [5.8],\n",
              "       [5. ],\n",
              "       [5.6],\n",
              "       [5.7],\n",
              "       [5.7],\n",
              "       [6.2],\n",
              "       [5.1],\n",
              "       [5.7],\n",
              "       [6.3],\n",
              "       [5.8],\n",
              "       [7.1],\n",
              "       [6.3],\n",
              "       [6.5],\n",
              "       [7.6],\n",
              "       [4.9],\n",
              "       [7.3],\n",
              "       [6.7],\n",
              "       [7.2],\n",
              "       [6.5],\n",
              "       [6.4],\n",
              "       [6.8],\n",
              "       [5.7],\n",
              "       [5.8],\n",
              "       [6.4],\n",
              "       [6.5],\n",
              "       [7.7],\n",
              "       [7.7],\n",
              "       [6. ],\n",
              "       [6.9],\n",
              "       [5.6],\n",
              "       [7.7],\n",
              "       [6.3],\n",
              "       [6.7],\n",
              "       [7.2],\n",
              "       [6.2],\n",
              "       [6.1],\n",
              "       [6.4],\n",
              "       [7.2],\n",
              "       [7.4],\n",
              "       [7.9],\n",
              "       [6.4],\n",
              "       [6.3],\n",
              "       [6.1],\n",
              "       [7.7],\n",
              "       [6.3],\n",
              "       [6.4],\n",
              "       [6. ],\n",
              "       [6.9],\n",
              "       [6.7],\n",
              "       [6.9],\n",
              "       [5.8],\n",
              "       [6.8],\n",
              "       [6.7],\n",
              "       [6.7],\n",
              "       [6.3],\n",
              "       [6.5],\n",
              "       [6.2],\n",
              "       [5.9]])"
            ]
          },
          "metadata": {},
          "execution_count": 3
        }
      ]
    },
    {
      "cell_type": "markdown",
      "source": [
        "### Calculando a Média (\"Theta\")"
      ],
      "metadata": {
        "id": "t8kYDaY90BA8"
      }
    },
    {
      "cell_type": "code",
      "source": [
        "import numpy as np\n",
        "theta = np.mean(data)\n",
        "theta"
      ],
      "metadata": {
        "id": "zFOaGozAjGEi",
        "colab": {
          "base_uri": "https://localhost:8080/"
        },
        "outputId": "271a92b6-ecf3-4694-9c5c-7aa4f1e67015"
      },
      "execution_count": null,
      "outputs": [
        {
          "output_type": "execute_result",
          "data": {
            "text/plain": [
              "5.843333333333334"
            ]
          },
          "metadata": {},
          "execution_count": 4
        }
      ]
    },
    {
      "cell_type": "markdown",
      "source": [
        "### Reamostragem (sklearn resample)"
      ],
      "metadata": {
        "id": "UNiDyDH8nXJH"
      }
    },
    {
      "cell_type": "code",
      "source": [
        "from sklearn.utils import resample\n",
        "sample = resample( ['A','B','C'], n_samples=3,  replace=True)\n",
        "sample"
      ],
      "metadata": {
        "id": "yh0RJTHxk1zX",
        "colab": {
          "base_uri": "https://localhost:8080/"
        },
        "outputId": "eb6d32a3-f636-4f8f-b26f-586941cded47"
      },
      "execution_count": null,
      "outputs": [
        {
          "output_type": "execute_result",
          "data": {
            "text/plain": [
              "['C', 'A', 'B']"
            ]
          },
          "metadata": {},
          "execution_count": 5
        }
      ]
    },
    {
      "cell_type": "markdown",
      "source": [
        "Exemplo equivalente com Pandas"
      ],
      "metadata": {
        "id": "fmHViZo3mJ69"
      }
    },
    {
      "cell_type": "code",
      "source": [
        "import pandas as pd\n",
        "df = pd.DataFrame(\n",
        "    {\n",
        "        \"XX\": ['A','B','C']\n",
        "    }\n",
        ")\n",
        "sample_df = df.sample(n = 3, replace = True)\n",
        "sample_df"
      ],
      "metadata": {
        "id": "MaaenQgEmIN3",
        "colab": {
          "base_uri": "https://localhost:8080/",
          "height": 143
        },
        "outputId": "bcf17656-34be-492a-f565-6763fa7b03bb"
      },
      "execution_count": null,
      "outputs": [
        {
          "output_type": "execute_result",
          "data": {
            "text/plain": [
              "  XX\n",
              "1  B\n",
              "0  A\n",
              "0  A"
            ],
            "text/html": [
              "\n",
              "  <div id=\"df-c5c62bf0-3d07-41a4-8ec9-b14d829a8d0d\">\n",
              "    <div class=\"colab-df-container\">\n",
              "      <div>\n",
              "<style scoped>\n",
              "    .dataframe tbody tr th:only-of-type {\n",
              "        vertical-align: middle;\n",
              "    }\n",
              "\n",
              "    .dataframe tbody tr th {\n",
              "        vertical-align: top;\n",
              "    }\n",
              "\n",
              "    .dataframe thead th {\n",
              "        text-align: right;\n",
              "    }\n",
              "</style>\n",
              "<table border=\"1\" class=\"dataframe\">\n",
              "  <thead>\n",
              "    <tr style=\"text-align: right;\">\n",
              "      <th></th>\n",
              "      <th>XX</th>\n",
              "    </tr>\n",
              "  </thead>\n",
              "  <tbody>\n",
              "    <tr>\n",
              "      <th>1</th>\n",
              "      <td>B</td>\n",
              "    </tr>\n",
              "    <tr>\n",
              "      <th>0</th>\n",
              "      <td>A</td>\n",
              "    </tr>\n",
              "    <tr>\n",
              "      <th>0</th>\n",
              "      <td>A</td>\n",
              "    </tr>\n",
              "  </tbody>\n",
              "</table>\n",
              "</div>\n",
              "      <button class=\"colab-df-convert\" onclick=\"convertToInteractive('df-c5c62bf0-3d07-41a4-8ec9-b14d829a8d0d')\"\n",
              "              title=\"Convert this dataframe to an interactive table.\"\n",
              "              style=\"display:none;\">\n",
              "        \n",
              "  <svg xmlns=\"http://www.w3.org/2000/svg\" height=\"24px\"viewBox=\"0 0 24 24\"\n",
              "       width=\"24px\">\n",
              "    <path d=\"M0 0h24v24H0V0z\" fill=\"none\"/>\n",
              "    <path d=\"M18.56 5.44l.94 2.06.94-2.06 2.06-.94-2.06-.94-.94-2.06-.94 2.06-2.06.94zm-11 1L8.5 8.5l.94-2.06 2.06-.94-2.06-.94L8.5 2.5l-.94 2.06-2.06.94zm10 10l.94 2.06.94-2.06 2.06-.94-2.06-.94-.94-2.06-.94 2.06-2.06.94z\"/><path d=\"M17.41 7.96l-1.37-1.37c-.4-.4-.92-.59-1.43-.59-.52 0-1.04.2-1.43.59L10.3 9.45l-7.72 7.72c-.78.78-.78 2.05 0 2.83L4 21.41c.39.39.9.59 1.41.59.51 0 1.02-.2 1.41-.59l7.78-7.78 2.81-2.81c.8-.78.8-2.07 0-2.86zM5.41 20L4 18.59l7.72-7.72 1.47 1.35L5.41 20z\"/>\n",
              "  </svg>\n",
              "      </button>\n",
              "      \n",
              "  <style>\n",
              "    .colab-df-container {\n",
              "      display:flex;\n",
              "      flex-wrap:wrap;\n",
              "      gap: 12px;\n",
              "    }\n",
              "\n",
              "    .colab-df-convert {\n",
              "      background-color: #E8F0FE;\n",
              "      border: none;\n",
              "      border-radius: 50%;\n",
              "      cursor: pointer;\n",
              "      display: none;\n",
              "      fill: #1967D2;\n",
              "      height: 32px;\n",
              "      padding: 0 0 0 0;\n",
              "      width: 32px;\n",
              "    }\n",
              "\n",
              "    .colab-df-convert:hover {\n",
              "      background-color: #E2EBFA;\n",
              "      box-shadow: 0px 1px 2px rgba(60, 64, 67, 0.3), 0px 1px 3px 1px rgba(60, 64, 67, 0.15);\n",
              "      fill: #174EA6;\n",
              "    }\n",
              "\n",
              "    [theme=dark] .colab-df-convert {\n",
              "      background-color: #3B4455;\n",
              "      fill: #D2E3FC;\n",
              "    }\n",
              "\n",
              "    [theme=dark] .colab-df-convert:hover {\n",
              "      background-color: #434B5C;\n",
              "      box-shadow: 0px 1px 3px 1px rgba(0, 0, 0, 0.15);\n",
              "      filter: drop-shadow(0px 1px 2px rgba(0, 0, 0, 0.3));\n",
              "      fill: #FFFFFF;\n",
              "    }\n",
              "  </style>\n",
              "\n",
              "      <script>\n",
              "        const buttonEl =\n",
              "          document.querySelector('#df-c5c62bf0-3d07-41a4-8ec9-b14d829a8d0d button.colab-df-convert');\n",
              "        buttonEl.style.display =\n",
              "          google.colab.kernel.accessAllowed ? 'block' : 'none';\n",
              "\n",
              "        async function convertToInteractive(key) {\n",
              "          const element = document.querySelector('#df-c5c62bf0-3d07-41a4-8ec9-b14d829a8d0d');\n",
              "          const dataTable =\n",
              "            await google.colab.kernel.invokeFunction('convertToInteractive',\n",
              "                                                     [key], {});\n",
              "          if (!dataTable) return;\n",
              "\n",
              "          const docLinkHtml = 'Like what you see? Visit the ' +\n",
              "            '<a target=\"_blank\" href=https://colab.research.google.com/notebooks/data_table.ipynb>data table notebook</a>'\n",
              "            + ' to learn more about interactive tables.';\n",
              "          element.innerHTML = '';\n",
              "          dataTable['output_type'] = 'display_data';\n",
              "          await google.colab.output.renderOutput(dataTable, element);\n",
              "          const docLink = document.createElement('div');\n",
              "          docLink.innerHTML = docLinkHtml;\n",
              "          element.appendChild(docLink);\n",
              "        }\n",
              "      </script>\n",
              "    </div>\n",
              "  </div>\n",
              "  "
            ]
          },
          "metadata": {},
          "execution_count": 6
        }
      ]
    },
    {
      "cell_type": "markdown",
      "source": [
        "Exemplo equivalente com Numpy"
      ],
      "metadata": {
        "id": "Vwlk3hGPH36Y"
      }
    },
    {
      "cell_type": "code",
      "source": [
        "sample = np.random.choice([1,2,3], size=2, replace=True)\n",
        "sample"
      ],
      "metadata": {
        "id": "3-nT2xfuHnLK",
        "colab": {
          "base_uri": "https://localhost:8080/"
        },
        "outputId": "c3ed3234-9fa5-48fa-8fec-ff3108b4c64b"
      },
      "execution_count": null,
      "outputs": [
        {
          "output_type": "execute_result",
          "data": {
            "text/plain": [
              "array([2, 1])"
            ]
          },
          "metadata": {},
          "execution_count": 7
        }
      ]
    },
    {
      "cell_type": "markdown",
      "source": [
        "#### Amostra de 10%"
      ],
      "metadata": {
        "id": "aRvGP7YG0iD1"
      }
    },
    {
      "cell_type": "code",
      "source": [
        "sample_size=int((len(data)*0.1))\n",
        "x = resample(data, n_samples=sample_size, replace=False) # SEM reposição\n",
        "x"
      ],
      "metadata": {
        "id": "Q2KiPNuSjk5W",
        "colab": {
          "base_uri": "https://localhost:8080/"
        },
        "outputId": "b92793bb-80a9-44dc-b792-a842ef536858"
      },
      "execution_count": null,
      "outputs": [
        {
          "output_type": "execute_result",
          "data": {
            "text/plain": [
              "array([[7.3],\n",
              "       [4.5],\n",
              "       [5.5],\n",
              "       [5.7],\n",
              "       [5.7],\n",
              "       [6.4],\n",
              "       [6.6],\n",
              "       [5.8],\n",
              "       [6.4],\n",
              "       [5.6],\n",
              "       [7.4],\n",
              "       [4.8],\n",
              "       [7.7],\n",
              "       [7.2],\n",
              "       [5. ]])"
            ]
          },
          "metadata": {},
          "execution_count": 8
        }
      ]
    },
    {
      "cell_type": "markdown",
      "source": [
        "#### Média da Amostra"
      ],
      "metadata": {
        "id": "oQnKDpfU0na4"
      }
    },
    {
      "cell_type": "code",
      "source": [
        "np.mean(x)"
      ],
      "metadata": {
        "id": "zxByuQs2ktF2",
        "colab": {
          "base_uri": "https://localhost:8080/"
        },
        "outputId": "53eb6e55-270a-4a2c-aea9-e4e81a03f000"
      },
      "execution_count": null,
      "outputs": [
        {
          "output_type": "execute_result",
          "data": {
            "text/plain": [
              "6.106666666666667"
            ]
          },
          "metadata": {},
          "execution_count": 9
        }
      ]
    },
    {
      "cell_type": "markdown",
      "source": [
        "### Distribuição Amostral\n",
        "\n",
        "(Distribuição das Médias Amostrais)\n",
        "\n",
        "(Distribuição Amostral da Média)"
      ],
      "metadata": {
        "id": "iyujvcSJ49pR"
      }
    },
    {
      "cell_type": "code",
      "source": [
        "theta_hat_list = list()\n",
        "for i in range(1000):\n",
        "  x = resample(data, n_samples=sample_size, replace=True) # com reposição\n",
        "  theta_hat = np.mean(x)\n",
        "  theta_hat_list.append(theta_hat)"
      ],
      "metadata": {
        "id": "OdmiPNQj5SRh"
      },
      "execution_count": null,
      "outputs": []
    },
    {
      "cell_type": "code",
      "source": [
        "import seaborn as sns\n",
        "ax = sns.displot(theta_hat_list, kde=True)"
      ],
      "metadata": {
        "id": "Bp3OKRwW5SRo",
        "colab": {
          "base_uri": "https://localhost:8080/",
          "height": 369
        },
        "outputId": "382aa4cf-781f-457b-83f7-3a105be9d2b3"
      },
      "execution_count": null,
      "outputs": [
        {
          "output_type": "display_data",
          "data": {
            "text/plain": [
              "<Figure size 360x360 with 1 Axes>"
            ],
            "image/png": "[encoded data removed]"
          },
          "metadata": {
            "needs_background": "light"
          }
        }
      ]
    },
    {
      "cell_type": "markdown",
      "source": [
        "### Erro Amostral"
      ],
      "metadata": {
        "id": "kXs7d0Sn8mT1"
      }
    },
    {
      "cell_type": "markdown",
      "source": [
        "#### Erros em várias amostras"
      ],
      "metadata": {
        "id": "jYm-6MVK0q9v"
      }
    },
    {
      "cell_type": "code",
      "source": [
        "for i in range(10):\n",
        "  x = resample(x, replace=True)\n",
        "  theta_error = np.mean(x) - theta\n",
        "  print(theta_error)"
      ],
      "metadata": {
        "id": "_59DkIp3n8RN",
        "colab": {
          "base_uri": "https://localhost:8080/"
        },
        "outputId": "aa1879a6-b851-4efe-99dc-508b9cb58ebb"
      },
      "execution_count": null,
      "outputs": [
        {
          "output_type": "stream",
          "name": "stdout",
          "text": [
            "-0.20333333333333403\n",
            "-0.1366666666666676\n",
            "-0.2233333333333345\n",
            "-0.3166666666666673\n",
            "-0.27000000000000135\n",
            "-0.3166666666666673\n",
            "-0.41000000000000014\n",
            "-0.20333333333333403\n",
            "-0.23000000000000131\n",
            "-0.2566666666666668\n"
          ]
        }
      ]
    },
    {
      "cell_type": "markdown",
      "source": [
        "#### Erro em muitas amostras (Distribuição do Erro Amostral)"
      ],
      "metadata": {
        "id": "NctRgBxa19TT"
      }
    },
    {
      "cell_type": "code",
      "source": [
        "theta_hat_error_list = list()\n",
        "for i in range(1000):\n",
        "  x = resample(data, n_samples=sample_size, replace=True) # com reposição\n",
        "  theta_hat_error = np.mean(x) - theta\n",
        "  theta_hat_error_list.append(theta_hat_error)"
      ],
      "metadata": {
        "id": "7EnTdGI2oSd2"
      },
      "execution_count": null,
      "outputs": []
    },
    {
      "cell_type": "code",
      "source": [
        "import seaborn as sns\n",
        "ax = sns.displot(theta_hat_error_list, kde=True)"
      ],
      "metadata": {
        "id": "2E3-xy_Xpuv_",
        "colab": {
          "base_uri": "https://localhost:8080/",
          "height": 369
        },
        "outputId": "05342afb-0c95-48aa-a7bc-d924485462c5"
      },
      "execution_count": null,
      "outputs": [
        {
          "output_type": "display_data",
          "data": {
            "text/plain": [
              "<Figure size 360x360 with 1 Axes>"
            ],
            "image/png": "[encoded data removed]"
          },
          "metadata": {
            "needs_background": "light"
          }
        }
      ]
    },
    {
      "cell_type": "markdown",
      "source": [
        "### Artefatos para gerar o **Intervalo de Confiança**"
      ],
      "metadata": {
        "id": "AW-z6F9G3bPK"
      }
    },
    {
      "cell_type": "code",
      "source": [
        "# Nível de confiança\n",
        "alpha = 0.95\n",
        "\n",
        "# Percentis\n",
        "lower_p = ((1.0-alpha)/2.0) * 100\n",
        "upper_p = (alpha+((1.0-alpha)/2.0)) * 100\n",
        "\n",
        "# Valores dos Percentis\n",
        "lower_value = np.percentile(theta_hat_error_list, lower_p)\n",
        "upper_value = np.percentile(theta_hat_error_list, upper_p)\n",
        "\n",
        "#Visualização dos valores calculados\n",
        "\n",
        "print('Lower Percentile: %.3f' % lower_p)\n",
        "print('Upper Percentile: %.3f' % upper_p)\n",
        "\n",
        "print('Lower Value: %.3f' % lower_value)\n",
        "print('Upper Value: %.3f' % upper_value)"
      ],
      "metadata": {
        "id": "AFpAxfhuwoV7",
        "colab": {
          "base_uri": "https://localhost:8080/"
        },
        "outputId": "1ebca5a0-dff3-4eb6-ee81-2400f67bbb99"
      },
      "execution_count": null,
      "outputs": [
        {
          "output_type": "stream",
          "name": "stdout",
          "text": [
            "Lower Percentile: 2.500\n",
            "Upper Percentile: 97.500\n",
            "Lower Value: -0.417\n",
            "Upper Value: 0.424\n"
          ]
        }
      ]
    },
    {
      "cell_type": "markdown",
      "source": [
        "#### Gráfico"
      ],
      "metadata": {
        "id": "nw2GueUy3szb"
      }
    },
    {
      "cell_type": "code",
      "source": [
        "import matplotlib.pyplot as plt\n",
        "\n",
        "ax = sns.displot(theta_hat_error_list, kde=True)\n",
        "\n",
        "#Apenas uma alternativa para gerar o gráfico\n",
        "#ax = sns.histplot(theta_hat_error_list, stat=\"density\", fill=True, color ='lightblue')\n",
        "#ax = sns.kdeplot(theta_hat_error_list, color='blue')\n",
        "\n",
        "plt.xlabel(\"Error\")\n",
        "plt.ylabel(\"Count\")\n",
        "plt.axvline(x=lower_value, linestyle=\"--\", color='red')\n",
        "plt.axvline(x=upper_value, linestyle=\"--\", color='red')"
      ],
      "metadata": {
        "id": "J8ecLFm0x4Ur",
        "colab": {
          "base_uri": "https://localhost:8080/",
          "height": 400
        },
        "outputId": "a8d04f1c-503b-4ecb-8103-8d7f83323868"
      },
      "execution_count": null,
      "outputs": [
        {
          "output_type": "execute_result",
          "data": {
            "text/plain": [
              "<matplotlib.lines.Line2D at 0x7fd9b9838bb0>"
            ]
          },
          "metadata": {},
          "execution_count": 16
        },
        {
          "output_type": "display_data",
          "data": {
            "text/plain": [
              "<Figure size 360x360 with 1 Axes>"
            ],
            "image/png": "[encoded data removed]"
          },
          "metadata": {
            "needs_background": "light"
          }
        }
      ]
    },
    {
      "cell_type": "markdown",
      "source": [
        "#### Apenas um outro gráfico legal :-)"
      ],
      "metadata": {
        "id": "xRYopqI40kvL"
      }
    },
    {
      "cell_type": "code",
      "source": [
        "ax = sns.distplot(theta_hat_error_list, hist=True, color='#388E3C')\n",
        "kde_x, kde_y = ax.lines[0].get_data()\n",
        "\n",
        "p1 = plt.axvline(x=lower_value,color='#EF9A9A')\n",
        "p2 = plt.axvline(x=upper_value,color='#EF9A9A')\n",
        "\n",
        "ax.fill_between(kde_x, kde_y, where=(kde_x<lower_value) | (kde_x>upper_value) , \n",
        "                interpolate=True, color='#EF9A9A')\n",
        "\n",
        "plt.show()"
      ],
      "metadata": {
        "id": "6uQgH7o6zsa9",
        "colab": {
          "base_uri": "https://localhost:8080/",
          "height": 265
        },
        "outputId": "a353ff70-024d-4724-fc4d-7406fd32d94f"
      },
      "execution_count": null,
      "outputs": [
        {
          "output_type": "display_data",
          "data": {
            "text/plain": [
              "<Figure size 432x288 with 1 Axes>"
            ],
            "image/png": "[encoded data removed]"
          },
          "metadata": {
            "needs_background": "light"
          }
        }
      ]
    },
    {
      "cell_type": "markdown",
      "source": [
        "#### Mais um gráfico legal "
      ],
      "metadata": {
        "id": "_60Nt8n49Xot"
      }
    },
    {
      "cell_type": "code",
      "source": [
        "#plotting the two lines\n",
        "p1 = plt.axvline(x=lower_value,color='#EF9A9A')\n",
        "p2 = plt.axvline(x=upper_value,color='#EF9A9A')\n",
        "\n",
        "#plotting the PDF\n",
        "ax = sns.distplot(theta_hat_error_list, hist=True,color='#388E3C')\n",
        "\n",
        "xlim = ax.get_xlim()\n",
        "ax.axvspan(xlim[0], lower_value, color='#EF9A9A', alpha=0.5)\n",
        "ax.axvspan(upper_value, xlim[1], color='#EF9A9A', alpha=0.5)\n",
        "ax.set_xlim(xlim)\n",
        "plt.show()"
      ],
      "metadata": {
        "id": "82L-LjVD1MPE",
        "colab": {
          "base_uri": "https://localhost:8080/",
          "height": 265
        },
        "outputId": "bf2ece76-77a6-4544-ae11-99bfd8dcc374"
      },
      "execution_count": null,
      "outputs": [
        {
          "output_type": "display_data",
          "data": {
            "text/plain": [
              "<Figure size 432x288 with 1 Axes>"
            ],
            "image/png": "[encoded data removed]"
          },
          "metadata": {
            "needs_background": "light"
          }
        }
      ]
    },
    {
      "cell_type": "markdown",
      "source": [
        "### Cenário simulado (confrontando o Theta com o IC de uma determinada amostra)"
      ],
      "metadata": {
        "id": "p1aPs29l3Khv"
      }
    },
    {
      "cell_type": "code",
      "source": [
        "sample_size=int((len(data)*0.1))\n",
        "\n",
        "x_test = resample(data, n_samples=sample_size, replace=False) # SEM reposição\n",
        "theta_hat = np.mean(x_test)\n",
        "\n",
        "lower_limit = theta_hat+lower_value\n",
        "upper_limit = theta_hat+upper_value\n",
        "\n",
        "print('Theta : %.3f' % theta)\n",
        "print('Confidence Interval (%.f%%): %.3f to %.3f' % (alpha*100, lower_limit, upper_limit))\n",
        "\n",
        "contains_theta = (lower_limit <= theta <= upper_limit)\n",
        "print('Contains Theta:', contains_theta)"
      ],
      "metadata": {
        "id": "yn2lmIZhp97-",
        "colab": {
          "base_uri": "https://localhost:8080/"
        },
        "outputId": "8e3a329d-97ce-4064-953c-620ea0b348d5"
      },
      "execution_count": null,
      "outputs": [
        {
          "output_type": "stream",
          "name": "stdout",
          "text": [
            "Theta : 5.843\n",
            "Confidence Interval (95%): 5.217 to 6.057\n",
            "Contains Theta: True\n"
          ]
        }
      ]
    },
    {
      "cell_type": "markdown",
      "source": [
        "### Gerando Vários Cenários Simulados (confrontando o Theta com o IC de uma determinada amostra)"
      ],
      "metadata": {
        "id": "L0yEEnhIwAPR"
      }
    },
    {
      "cell_type": "code",
      "source": [
        "sample_size=int((len(data)*0.1))\n",
        "for i in range(100): \n",
        "  x_test = resample(data, n_samples=sample_size, replace=False) # SEM reposição\n",
        "  theta_hat = np.mean(x_test)\n",
        "  lower_limit = theta_hat+lower_value\n",
        "  upper_limit = theta_hat+upper_value\n",
        "  contains_theta = (lower_limit <= theta <= upper_limit)\n",
        "  print('%.3f -- %.3f | %s' % (lower_limit, upper_limit, contains_theta))\n",
        "  "
      ],
      "metadata": {
        "id": "e-CrpOKA46wg",
        "colab": {
          "base_uri": "https://localhost:8080/"
        },
        "outputId": "05c404b9-4ed8-41fc-a8e5-8ae5860ca681"
      },
      "execution_count": null,
      "outputs": [
        {
          "output_type": "stream",
          "name": "stdout",
          "text": [
            "5.243 -- 6.083 | True\n",
            "5.517 -- 6.357 | True\n",
            "5.397 -- 6.237 | True\n",
            "5.383 -- 6.224 | True\n",
            "5.150 -- 5.990 | True\n",
            "5.463 -- 6.304 | True\n",
            "5.150 -- 5.990 | True\n",
            "5.370 -- 6.210 | True\n",
            "5.343 -- 6.183 | True\n",
            "5.250 -- 6.090 | True\n",
            "5.597 -- 6.437 | True\n",
            "5.550 -- 6.390 | True\n",
            "5.563 -- 6.404 | True\n",
            "5.483 -- 6.324 | True\n",
            "5.303 -- 6.144 | True\n",
            "5.543 -- 6.384 | True\n",
            "5.310 -- 6.150 | True\n",
            "5.417 -- 6.257 | True\n",
            "5.497 -- 6.337 | True\n",
            "5.177 -- 6.017 | True\n",
            "4.997 -- 5.837 | False\n",
            "5.317 -- 6.157 | True\n",
            "5.510 -- 6.350 | True\n",
            "5.717 -- 6.557 | True\n",
            "5.737 -- 6.577 | True\n",
            "5.590 -- 6.430 | True\n",
            "5.643 -- 6.484 | True\n",
            "5.363 -- 6.204 | True\n",
            "5.477 -- 6.317 | True\n",
            "5.270 -- 6.110 | True\n",
            "5.537 -- 6.377 | True\n",
            "5.377 -- 6.217 | True\n",
            "5.637 -- 6.477 | True\n",
            "5.303 -- 6.144 | True\n",
            "5.490 -- 6.330 | True\n",
            "5.483 -- 6.324 | True\n",
            "5.257 -- 6.097 | True\n",
            "5.030 -- 5.870 | True\n",
            "5.343 -- 6.184 | True\n",
            "5.783 -- 6.624 | True\n",
            "5.623 -- 6.464 | True\n",
            "5.423 -- 6.264 | True\n",
            "5.250 -- 6.090 | True\n",
            "5.457 -- 6.297 | True\n",
            "5.643 -- 6.484 | True\n",
            "5.197 -- 6.037 | True\n",
            "5.503 -- 6.344 | True\n",
            "5.837 -- 6.677 | True\n",
            "5.537 -- 6.377 | True\n",
            "4.997 -- 5.837 | False\n",
            "5.503 -- 6.344 | True\n",
            "5.203 -- 6.044 | True\n",
            "5.697 -- 6.537 | True\n",
            "5.657 -- 6.497 | True\n",
            "5.683 -- 6.524 | True\n",
            "5.503 -- 6.344 | True\n",
            "4.910 -- 5.750 | False\n",
            "5.610 -- 6.450 | True\n",
            "5.717 -- 6.557 | True\n",
            "5.490 -- 6.330 | True\n",
            "5.363 -- 6.204 | True\n",
            "5.363 -- 6.204 | True\n",
            "5.863 -- 6.704 | False\n",
            "5.383 -- 6.223 | True\n",
            "5.330 -- 6.170 | True\n",
            "5.563 -- 6.404 | True\n",
            "5.457 -- 6.297 | True\n",
            "5.363 -- 6.204 | True\n",
            "5.210 -- 6.050 | True\n",
            "5.597 -- 6.437 | True\n",
            "5.670 -- 6.510 | True\n",
            "5.443 -- 6.284 | True\n",
            "5.570 -- 6.410 | True\n",
            "5.470 -- 6.310 | True\n",
            "5.283 -- 6.124 | True\n",
            "5.657 -- 6.497 | True\n",
            "5.337 -- 6.177 | True\n",
            "5.077 -- 5.917 | True\n",
            "5.570 -- 6.410 | True\n",
            "5.657 -- 6.497 | True\n",
            "5.297 -- 6.137 | True\n",
            "5.397 -- 6.237 | True\n",
            "5.437 -- 6.277 | True\n",
            "5.410 -- 6.250 | True\n",
            "5.517 -- 6.357 | True\n",
            "5.790 -- 6.630 | True\n",
            "5.263 -- 6.104 | True\n",
            "5.577 -- 6.417 | True\n",
            "5.410 -- 6.250 | True\n",
            "5.437 -- 6.277 | True\n",
            "5.343 -- 6.184 | True\n",
            "5.537 -- 6.377 | True\n",
            "5.337 -- 6.177 | True\n",
            "5.623 -- 6.464 | True\n",
            "5.183 -- 6.023 | True\n",
            "5.730 -- 6.570 | True\n",
            "5.763 -- 6.603 | True\n",
            "5.817 -- 6.657 | True\n",
            "5.237 -- 6.077 | True\n",
            "5.430 -- 6.270 | True\n"
          ]
        }
      ]
    },
    {
      "cell_type": "markdown",
      "source": [
        "# Bootstrapping"
      ],
      "metadata": {
        "id": "vsXD7psW5vlT"
      }
    },
    {
      "cell_type": "markdown",
      "source": [
        "#### Implementando uma Função para Simplificar nosso Código"
      ],
      "metadata": {
        "id": "Wk1_0GClnjwo"
      }
    },
    {
      "cell_type": "code",
      "source": [
        "def bootstrap(data, alpha=0.95, n_rep=100):\n",
        "  \n",
        "  theta_hat_error_list = list()\n",
        "  theta = np.mean(data)\n",
        "  \n",
        "  # Resampling\n",
        "  for i in range(0,n_rep):\n",
        "    x = resample(data, replace=True)\n",
        "    theta_hat_error = np.mean(x) - theta\n",
        "    theta_hat_error_list.append(theta_hat_error)\n",
        "\n",
        "  # Percentiles\n",
        "  lower_p = ((1.0-alpha)/2.0) * 100\n",
        "  upper_p = (alpha+((1.0-alpha)/2.0)) * 100\n",
        "\n",
        "  # Lower and Upper Bounds\n",
        "  lower_value = np.percentile(theta_hat_error_list, lower_p)\n",
        "  upper_value = np.percentile(theta_hat_error_list, upper_p)\n",
        "\n",
        "  lower_limit = theta+lower_value\n",
        "  upper_limit = theta+upper_value\n",
        "\n",
        "  return theta, lower_limit, upper_limit\n"
      ],
      "metadata": {
        "id": "Q0Kbwdhl6mqx"
      },
      "execution_count": null,
      "outputs": []
    },
    {
      "cell_type": "markdown",
      "source": [
        "### Cenário simulado (confrontando o Theta com o IC de uma determinada amostra)"
      ],
      "metadata": {
        "id": "r0ahWUjwn2Ne"
      }
    },
    {
      "cell_type": "code",
      "source": [
        "sample_size=int((len(data)*0.20))\n",
        "sample_to_bootstrap = resample(data, n_samples=sample_size, replace=False) # SEM reposição\n",
        "\n",
        "theta_bs, lower_limit, upper_limit = bootstrap(sample_to_bootstrap)\n",
        "\n",
        "print('Theta : %.3f' % theta_bs)\n",
        "print('Confidence Interval (%.f%%): %.3f to %.3f' % (alpha*100, lower_limit, upper_limit))\n",
        "\n",
        "contains_theta = (lower_limit <= theta_bs <= upper_limit)\n",
        "print('Contains BS Theta:', contains_theta)\n",
        "\n",
        "contains_theta = (lower_limit <= theta <= upper_limit)\n",
        "print('Contains Real Theta:', contains_theta)"
      ],
      "metadata": {
        "id": "wnNpMciV81ZM",
        "colab": {
          "base_uri": "https://localhost:8080/"
        },
        "outputId": "b1ffcebe-4d40-48d2-a5d4-6e3146842df0"
      },
      "execution_count": null,
      "outputs": [
        {
          "output_type": "stream",
          "name": "stdout",
          "text": [
            "Theta : 5.800\n",
            "Confidence Interval (95%): 5.513 to 6.058\n",
            "Contains BS Theta: True\n",
            "Contains Real Theta: True\n"
          ]
        }
      ]
    },
    {
      "cell_type": "markdown",
      "source": [
        "### Gerando Vários Cenários Simulados (confrontando o Theta com o IC de uma determinada amostra)"
      ],
      "metadata": {
        "id": "no1MG9_3oCmn"
      }
    },
    {
      "cell_type": "code",
      "source": [
        "sample_size=int((len(data)*0.1))\n",
        "\n",
        "for i in range(100): \n",
        "  sample_to_bootstrap = resample(data, n_samples=sample_size, replace=False) # SEM reposição\n",
        "  theta_bs, lower_limit, upper_limit = bootstrap(sample_to_bootstrap, alpha=0.95)\n",
        "  contains_theta = (lower_limit <= theta <= upper_limit) # real theta (population)\n",
        "  print('%.3f -- %.3f | %s' % (lower_limit, upper_limit, contains_theta))"
      ],
      "metadata": {
        "id": "tWfFT00l9dm8",
        "colab": {
          "base_uri": "https://localhost:8080/"
        },
        "outputId": "512d8c4a-cdce-440b-8848-60b8b2c0d2b6"
      },
      "execution_count": null,
      "outputs": [
        {
          "output_type": "stream",
          "name": "stdout",
          "text": [
            "5.488 -- 6.254 | True\n",
            "5.376 -- 6.163 | True\n",
            "5.323 -- 6.084 | True\n",
            "5.378 -- 6.262 | True\n",
            "5.289 -- 5.994 | True\n",
            "5.633 -- 6.324 | True\n",
            "5.433 -- 6.191 | True\n",
            "5.273 -- 5.970 | True\n",
            "5.522 -- 6.451 | True\n",
            "5.405 -- 6.364 | True\n",
            "5.445 -- 6.214 | True\n",
            "5.351 -- 6.087 | True\n",
            "5.809 -- 6.804 | True\n",
            "5.442 -- 6.144 | True\n",
            "5.693 -- 6.362 | True\n",
            "5.290 -- 6.199 | True\n",
            "5.467 -- 6.320 | True\n",
            "5.314 -- 5.920 | True\n",
            "5.173 -- 5.798 | False\n",
            "5.666 -- 6.478 | True\n",
            "5.493 -- 6.047 | True\n",
            "5.853 -- 6.494 | False\n",
            "5.453 -- 6.273 | True\n",
            "5.316 -- 5.891 | True\n",
            "5.547 -- 6.397 | True\n",
            "5.219 -- 6.247 | True\n",
            "5.280 -- 6.240 | True\n",
            "5.778 -- 6.467 | True\n",
            "5.313 -- 6.138 | True\n",
            "5.250 -- 5.797 | False\n",
            "5.039 -- 5.752 | False\n",
            "5.386 -- 6.068 | True\n",
            "5.396 -- 6.171 | True\n",
            "5.697 -- 6.344 | True\n",
            "5.567 -- 6.157 | True\n",
            "5.866 -- 6.437 | False\n",
            "5.403 -- 6.303 | True\n",
            "5.786 -- 6.561 | True\n",
            "5.593 -- 6.390 | True\n",
            "5.326 -- 6.067 | True\n",
            "5.480 -- 6.251 | True\n",
            "5.689 -- 6.452 | True\n",
            "5.547 -- 6.354 | True\n",
            "5.443 -- 6.470 | True\n",
            "5.729 -- 6.567 | True\n",
            "5.449 -- 6.350 | True\n",
            "5.232 -- 5.924 | True\n",
            "5.587 -- 6.554 | True\n",
            "5.444 -- 6.144 | True\n",
            "5.470 -- 6.140 | True\n",
            "5.456 -- 6.420 | True\n",
            "5.456 -- 6.184 | True\n",
            "5.523 -- 6.270 | True\n",
            "5.499 -- 6.310 | True\n",
            "5.863 -- 6.557 | False\n",
            "5.353 -- 6.170 | True\n",
            "5.208 -- 5.974 | True\n",
            "5.410 -- 6.147 | True\n",
            "5.656 -- 6.458 | True\n",
            "5.457 -- 6.267 | True\n",
            "5.599 -- 6.148 | True\n",
            "5.386 -- 6.370 | True\n",
            "5.685 -- 6.660 | True\n",
            "5.616 -- 6.247 | True\n",
            "5.390 -- 6.333 | True\n",
            "5.953 -- 6.737 | False\n",
            "5.170 -- 5.914 | True\n",
            "5.455 -- 6.234 | True\n",
            "5.363 -- 6.024 | True\n",
            "5.701 -- 6.500 | True\n",
            "5.523 -- 6.435 | True\n",
            "5.393 -- 6.121 | True\n",
            "5.453 -- 6.097 | True\n",
            "5.502 -- 6.300 | True\n",
            "5.359 -- 6.631 | True\n",
            "5.407 -- 6.148 | True\n",
            "5.463 -- 6.290 | True\n",
            "5.150 -- 5.604 | False\n",
            "5.156 -- 5.847 | True\n",
            "5.687 -- 6.551 | True\n",
            "5.329 -- 6.051 | True\n",
            "5.466 -- 6.273 | True\n",
            "5.349 -- 6.237 | True\n",
            "5.519 -- 6.531 | True\n",
            "5.373 -- 5.897 | True\n",
            "5.746 -- 6.563 | True\n",
            "5.490 -- 6.620 | True\n",
            "5.186 -- 6.044 | True\n",
            "5.022 -- 5.837 | False\n",
            "5.626 -- 6.605 | True\n",
            "5.886 -- 6.370 | False\n",
            "5.330 -- 6.084 | True\n",
            "5.350 -- 6.057 | True\n",
            "5.538 -- 6.421 | True\n",
            "5.450 -- 6.277 | True\n",
            "5.129 -- 5.937 | True\n",
            "5.763 -- 6.732 | True\n",
            "5.696 -- 6.542 | True\n",
            "5.666 -- 6.554 | True\n",
            "5.266 -- 6.007 | True\n"
          ]
        }
      ]
    },
    {
      "cell_type": "markdown",
      "source": [
        "### Visualização"
      ],
      "metadata": {
        "id": "_IXvR4OwI_0z"
      }
    },
    {
      "cell_type": "code",
      "source": [
        "sample_size=int((len(data)*0.4))\n",
        "intervals = []\n",
        "thetas_hat = []\n",
        "n_rep=100\n",
        "\n",
        "for i in range(n_rep): \n",
        "  sample_to_bootstrap = resample(data, n_samples=sample_size, replace=False) # SEM reposição\n",
        "  theta_bs, lower_limit, upper_limit = bootstrap(sample_to_bootstrap, alpha=0.95)\n",
        "  thetas_hat.append(theta_bs)\n",
        "  intervals.append((lower_limit, upper_limit))\n",
        "\n",
        "plt.figure(figsize=(20,10))\n",
        "\n",
        "plt.errorbar(x=np.arange(0, n_rep, 1), \n",
        "             y=thetas_hat, \n",
        "             yerr=[(ur-lr)/2 for ur,lr in intervals],\n",
        "             fmt='o')\n",
        "\n",
        "plt.hlines(xmin=0, xmax=n_rep,\n",
        "           y=theta, \n",
        "           linewidth=2.0,\n",
        "           color=\"red\");"
      ],
      "metadata": {
        "id": "v9bYnGw7p5QS",
        "colab": {
          "base_uri": "https://localhost:8080/",
          "height": 331
        },
        "outputId": "a26d82f9-4c47-49c2-e16e-9e110fc89d89"
      },
      "execution_count": null,
      "outputs": [
        {
          "output_type": "display_data",
          "data": {
            "text/plain": [
              "<Figure size 1440x720 with 1 Axes>"
            ],
            "image/png": "[encoded data removed]"
          },
          "metadata": {
            "needs_background": "light"
          }
        }
      ]
    },
    {
      "cell_type": "markdown",
      "source": [
        "## Recebendo uma função como parâmetro"
      ],
      "metadata": {
        "id": "y4a065L0Ipe1"
      }
    },
    {
      "cell_type": "code",
      "source": [
        "def bootstrap_flex(data, func, alpha=0.95, n_rep=1000):\n",
        "  \n",
        "  theta_hat_error_list = list()\n",
        "  theta = func(data)\n",
        "  \n",
        "  # Resampling\n",
        "  for i in range(n_rep):\n",
        "    x = resample(data, replace=True)\n",
        "    theta_hat_error = func(x) - theta\n",
        "    theta_hat_error_list.append(theta_hat_error)\n",
        "\n",
        "  # Percentiles\n",
        "  lower_p = ((1.0-alpha)/2.0) * 100\n",
        "  upper_p = (alpha+((1.0-alpha)/2.0)) * 100\n",
        "\n",
        "  # Lower and Upper Bounds\n",
        "  lower_value = np.percentile(theta_hat_error_list, lower_p)\n",
        "  upper_value = np.percentile(theta_hat_error_list, upper_p)\n",
        "\n",
        "  lower_limit = theta+lower_value\n",
        "  upper_limit = theta+upper_value\n",
        "\n",
        "  return theta, lower_limit, upper_limit"
      ],
      "metadata": {
        "id": "41qX2KIXX4N0"
      },
      "execution_count": null,
      "outputs": []
    },
    {
      "cell_type": "markdown",
      "source": [
        "### Gerando Vários Cenários Simulados (confrontando o Theta com o IC de uma determinada amostra)"
      ],
      "metadata": {
        "id": "oOEAQb4YYKai"
      }
    },
    {
      "cell_type": "code",
      "source": [
        "sample_size=int((len(data)*0.1))\n",
        "\n",
        "for i in range(100): \n",
        "  sample_to_bootstrap = resample(data, n_samples=sample_size, replace=False) # SEM reposição\n",
        "  theta_bs, lower_limit, upper_limit = bootstrap_flex(sample_to_bootstrap, np.mean, alpha=0.95)\n",
        "  contains_theta = (lower_limit <= theta <= upper_limit) # real theta (population)\n",
        "  print('%.3f -- %.3f | %s' % (lower_limit, upper_limit, contains_theta))"
      ],
      "metadata": {
        "colab": {
          "base_uri": "https://localhost:8080/"
        },
        "id": "I5j0vZwyYKaq",
        "outputId": "e3fee333-2d8c-48f1-b20f-ad03ca356bce"
      },
      "execution_count": null,
      "outputs": [
        {
          "output_type": "stream",
          "name": "stdout",
          "text": [
            "5.660 -- 6.434 | True\n",
            "5.680 -- 6.400 | True\n",
            "5.266 -- 6.094 | True\n",
            "5.367 -- 6.120 | True\n",
            "5.447 -- 6.280 | True\n",
            "5.493 -- 6.167 | True\n",
            "5.386 -- 6.293 | True\n",
            "5.407 -- 6.220 | True\n",
            "5.646 -- 6.367 | True\n",
            "5.240 -- 5.993 | True\n",
            "5.546 -- 6.334 | True\n",
            "5.587 -- 6.374 | True\n",
            "5.333 -- 6.107 | True\n",
            "5.306 -- 6.007 | True\n",
            "5.393 -- 6.273 | True\n",
            "5.353 -- 5.934 | True\n",
            "5.313 -- 6.087 | True\n",
            "5.107 -- 5.900 | True\n",
            "5.293 -- 6.067 | True\n",
            "5.353 -- 6.094 | True\n",
            "5.640 -- 6.373 | True\n",
            "5.273 -- 5.807 | False\n",
            "5.340 -- 5.900 | True\n",
            "5.880 -- 6.674 | False\n",
            "5.346 -- 6.500 | True\n",
            "5.353 -- 6.340 | True\n",
            "5.567 -- 6.513 | True\n",
            "5.687 -- 6.527 | True\n",
            "5.313 -- 5.967 | True\n",
            "5.347 -- 6.147 | True\n",
            "5.360 -- 5.900 | True\n",
            "5.346 -- 6.174 | True\n",
            "5.426 -- 6.294 | True\n",
            "5.580 -- 6.200 | True\n",
            "5.180 -- 5.907 | True\n",
            "5.680 -- 6.327 | True\n",
            "5.253 -- 6.100 | True\n",
            "5.260 -- 6.207 | True\n",
            "5.280 -- 5.940 | True\n",
            "5.860 -- 6.554 | False\n",
            "5.580 -- 6.367 | True\n",
            "5.267 -- 6.067 | True\n",
            "5.460 -- 6.240 | True\n",
            "5.700 -- 6.533 | True\n",
            "5.319 -- 6.360 | True\n",
            "5.706 -- 6.547 | True\n",
            "5.573 -- 6.527 | True\n",
            "5.167 -- 5.773 | False\n",
            "4.986 -- 5.873 | True\n",
            "5.466 -- 6.287 | True\n",
            "5.640 -- 6.227 | True\n",
            "5.413 -- 6.307 | True\n",
            "5.600 -- 6.373 | True\n",
            "5.220 -- 6.027 | True\n",
            "5.393 -- 6.220 | True\n",
            "5.580 -- 6.347 | True\n",
            "5.280 -- 6.100 | True\n",
            "5.500 -- 6.367 | True\n",
            "5.587 -- 6.453 | True\n",
            "5.147 -- 5.913 | True\n",
            "5.000 -- 5.573 | False\n",
            "5.420 -- 6.300 | True\n",
            "5.160 -- 6.233 | True\n",
            "5.320 -- 6.107 | True\n",
            "5.393 -- 6.294 | True\n",
            "5.487 -- 6.260 | True\n",
            "5.387 -- 6.107 | True\n",
            "5.333 -- 6.000 | True\n",
            "5.487 -- 6.367 | True\n",
            "5.367 -- 6.287 | True\n",
            "5.513 -- 6.347 | True\n",
            "5.526 -- 6.353 | True\n",
            "5.320 -- 6.020 | True\n",
            "5.513 -- 6.387 | True\n",
            "5.573 -- 6.260 | True\n",
            "5.693 -- 6.440 | True\n",
            "5.500 -- 6.194 | True\n",
            "5.680 -- 6.434 | True\n",
            "5.180 -- 5.920 | True\n",
            "5.300 -- 6.234 | True\n",
            "5.533 -- 6.180 | True\n",
            "5.573 -- 6.454 | True\n",
            "5.493 -- 6.373 | True\n",
            "5.627 -- 6.420 | True\n",
            "5.347 -- 6.227 | True\n",
            "5.133 -- 6.000 | True\n",
            "5.260 -- 6.020 | True\n",
            "4.986 -- 5.887 | True\n",
            "5.493 -- 6.307 | True\n",
            "5.326 -- 6.394 | True\n",
            "5.220 -- 5.987 | True\n",
            "5.473 -- 6.394 | True\n",
            "5.307 -- 5.807 | False\n",
            "5.460 -- 6.320 | True\n",
            "5.240 -- 6.267 | True\n",
            "5.553 -- 6.300 | True\n",
            "5.693 -- 6.647 | True\n",
            "5.453 -- 6.254 | True\n",
            "5.500 -- 6.140 | True\n",
            "5.660 -- 6.567 | True\n"
          ]
        }
      ]
    },
    {
      "cell_type": "markdown",
      "source": [
        "### Biblioteca para Bootstrap\n",
        "\n",
        "Scipy:\n",
        "\n",
        "https://docs.scipy.org/doc/scipy/reference/generated/scipy.stats.bootstrap.html"
      ],
      "metadata": {
        "id": "mW6ky_U-kaF-"
      }
    },
    {
      "cell_type": "markdown",
      "source": [
        "# Intervalo de Confiança a partir da Teoria Central do Limite (TCL)"
      ],
      "metadata": {
        "id": "VOTVUQ7ZxrZj"
      }
    },
    {
      "cell_type": "code",
      "source": [
        "import math\n",
        "\n",
        "# Distribution\n",
        "new_std = np.std(data) / math.sqrt(len(data))\n",
        "distr = np.random.normal(0, new_std, 10000)\n",
        "\n",
        "# Lower and Upper Bounds\n",
        "\n",
        "alpha=0.95\n",
        "\n",
        "lower_p = ((1.0-alpha)/2.0) * 100\n",
        "upper_p = (alpha+((1.0-alpha)/2.0)) * 100\n",
        "\n",
        "lower_value = np.percentile(distr, lower_p)\n",
        "upper_value = np.percentile(distr, upper_p)\n",
        "\n",
        "ax = sns.displot(distr, kde=True)\n",
        "\n",
        "plt.xlabel(\"Error\")\n",
        "plt.ylabel(\"Count\")\n",
        "plt.axvline(x=lower_value, linestyle=\"--\", color='red')\n",
        "plt.axvline(x=upper_value, linestyle=\"--\", color='red')"
      ],
      "metadata": {
        "colab": {
          "base_uri": "https://localhost:8080/",
          "height": 400
        },
        "id": "mjmAKGZDxyzm",
        "outputId": "995e9581-51f6-4ca4-f161-e78f1329be58"
      },
      "execution_count": null,
      "outputs": [
        {
          "output_type": "execute_result",
          "data": {
            "text/plain": [
              "<matplotlib.lines.Line2D at 0x7fd9b9d29310>"
            ]
          },
          "metadata": {},
          "execution_count": 27
        },
        {
          "output_type": "display_data",
          "data": {
            "text/plain": [
              "<Figure size 360x360 with 1 Axes>"
            ],
            "image/png": "[encoded data removed]"
          },
          "metadata": {
            "needs_background": "light"
          }
        }
      ]
    },
    {
      "cell_type": "code",
      "source": [
        "lower_limit = theta+lower_value\n",
        "upper_limit = theta+upper_value\n",
        "\n",
        "print('Theta : %.3f' % np.mean(data))\n",
        "print('Confidence Interval (%.f%%): %.3f to %.3f' % (alpha*100, lower_limit, upper_limit))"
      ],
      "metadata": {
        "colab": {
          "base_uri": "https://localhost:8080/"
        },
        "id": "enimM2yNziRO",
        "outputId": "c67ec531-afb9-4314-b2f1-701670505d44"
      },
      "execution_count": null,
      "outputs": [
        {
          "output_type": "stream",
          "name": "stdout",
          "text": [
            "Theta : 5.843\n",
            "Confidence Interval (95%): 5.709 to 5.975\n"
          ]
        }
      ]
    },
    {
      "cell_type": "markdown",
      "source": [
        "### Alternativa usando os z-values (constantes)"
      ],
      "metadata": {
        "id": "_OhXwBdA13vF"
      }
    },
    {
      "cell_type": "code",
      "source": [
        "distr = np.random.normal(loc=0, scale=1, size=10000)\n",
        "z_value = np.percentile(distr, 97.5)\n",
        "z_value"
      ],
      "metadata": {
        "colab": {
          "base_uri": "https://localhost:8080/"
        },
        "id": "lgPWfPAF18gQ",
        "outputId": "0f18bddb-9d38-43b0-cc52-5a836e88349f"
      },
      "execution_count": null,
      "outputs": [
        {
          "output_type": "execute_result",
          "data": {
            "text/plain": [
              "1.9535153188575978"
            ]
          },
          "metadata": {},
          "execution_count": 38
        }
      ]
    },
    {
      "cell_type": "code",
      "source": [
        "lower_value = -z_value * (new_std)\n",
        "upper_value = z_value * (new_std)\n",
        "\n",
        "lower_limit = theta+lower_value\n",
        "upper_limit = theta+upper_value\n",
        "\n",
        "print('Theta : %.3f' % np.mean(data))\n",
        "print('Confidence Interval (%.f%%): %.3f to %.3f' % (alpha*100, lower_limit, upper_limit))"
      ],
      "metadata": {
        "colab": {
          "base_uri": "https://localhost:8080/"
        },
        "id": "DMFmUXCu2im4",
        "outputId": "9e96c4c9-b59b-41e0-bee3-e8c9d7aefda8"
      },
      "execution_count": null,
      "outputs": [
        {
          "output_type": "stream",
          "name": "stdout",
          "text": [
            "Theta : 5.843\n",
            "Confidence Interval (95%): 5.712 to 5.975\n"
          ]
        }
      ]
    },
    {
      "cell_type": "markdown",
      "source": [
        "Tabela para consultar os z-values:\n",
        "\n",
        "http://www.ltcconline.net/greenl/courses/201/estimation/smallConfLevelTable.htm"
      ],
      "metadata": {
        "id": "Hqw8yC8Unt_C"
      }
    }
  ]
}