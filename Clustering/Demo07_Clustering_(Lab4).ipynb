{
  "cells": [
    {
      "cell_type": "markdown",
      "metadata": {
        "_uuid": "054f0cca3061be223d76116cb8544b598eb5a297",
        "id": "2WeN1QujkKWQ"
      },
      "source": [
        "# Agrupamento\n",
        "\n",
        "[Dataset Mall Customers](https://www.kaggle.com/shwetabh123/mall-customers)"
      ]
    },
    {
      "cell_type": "markdown",
      "metadata": {
        "_uuid": "fd0fc89fe26333add074845d0629b52ae828584c",
        "id": "YDYyf7RxkKWT"
      },
      "source": [
        "## Imports"
      ]
    },
    {
      "cell_type": "code",
      "execution_count": null,
      "metadata": {
        "_cell_guid": "b1076dfc-b9ad-4769-8c92-a6c4dae69d19",
        "_kg_hide-input": false,
        "_uuid": "8f2839f25d086af736a60e9eeb907d3b93b6e0e5",
        "id": "NzGss24lkKWU"
      },
      "outputs": [],
      "source": [
        "import numpy as np\n",
        "import pandas as pd\n",
        "import matplotlib.pyplot as plt \n",
        "import seaborn as sns \n",
        "import plotly as py\n",
        "import plotly.graph_objs as go\n",
        "from sklearn.cluster import KMeans\n",
        "import warnings\n",
        "import os\n",
        "warnings.filterwarnings(\"ignore\")"
      ]
    },
    {
      "cell_type": "markdown",
      "metadata": {
        "_uuid": "5b838f778af8cb2740c6d54e5bb6608223ab54f4",
        "id": "9DstiDfAkKWW"
      },
      "source": [
        "## EDA"
      ]
    },
    {
      "cell_type": "code",
      "execution_count": null,
      "metadata": {
        "_cell_guid": "79c7e3d0-c299-4dcb-8224-4455121ee9b0",
        "_uuid": "d629ff2d2480ee46fbb7e2d37f6b5fab8052498a",
        "id": "o43C_mh7kKWW"
      },
      "outputs": [],
      "source": [
        "# Download:\n",
        "# https://drive.google.com/file/d/1l45nFMoIWcIUGxuACKcgtPECSKYte1NC/view?usp=sharing\n",
        "\n",
        "# read:\n",
        "# df = pd.read_csv('Mall_Customers.csv')\n",
        "\n",
        "df = pd.read_csv('https://docs.google.com/uc?export=download&id=1l45nFMoIWcIUGxuACKcgtPECSKYte1NC')\n",
        "df.head()"
      ]
    },
    {
      "cell_type": "code",
      "source": [
        "df.rename(columns={'Annual Income (k$)': 'Income', 'Spending Score (1-100)': 'Score'}, inplace=True)\n",
        "df.head()"
      ],
      "metadata": {
        "id": "qYEag0n0_Hys"
      },
      "execution_count": null,
      "outputs": []
    },
    {
      "cell_type": "code",
      "execution_count": null,
      "metadata": {
        "_uuid": "067b51b55e3daed31cfed664a1eacde23b932ec1",
        "id": "TxyDA9CxkKWW"
      },
      "outputs": [],
      "source": [
        "df.shape"
      ]
    },
    {
      "cell_type": "code",
      "execution_count": null,
      "metadata": {
        "_uuid": "0e352ff53fe883942afd06b2e830ff7fa7cfdabd",
        "id": "gRTFwqDmkKWX"
      },
      "outputs": [],
      "source": [
        "df.describe()"
      ]
    },
    {
      "cell_type": "code",
      "execution_count": null,
      "metadata": {
        "_uuid": "57e39b6ed035b3e1b9e3dda9efd273fe552f48a7",
        "id": "gNqFow06kKWX"
      },
      "outputs": [],
      "source": [
        "df.dtypes"
      ]
    },
    {
      "cell_type": "code",
      "execution_count": null,
      "metadata": {
        "_uuid": "e57f14ca0de9ce6d08a1dd1fb6470707db3eb85a",
        "id": "xC7FCYezkKWY"
      },
      "outputs": [],
      "source": [
        "df.isnull().sum()"
      ]
    },
    {
      "cell_type": "markdown",
      "metadata": {
        "_uuid": "2459a03e13d3bae3d946715b17c151f0615b3dcf",
        "id": "daksOjsQkKWY"
      },
      "source": [
        "## Visualização"
      ]
    },
    {
      "cell_type": "code",
      "execution_count": null,
      "metadata": {
        "_kg_hide-input": true,
        "_uuid": "25f06dcc79fbf5f5b83d3dc7a337865aacb7657e",
        "id": "8bnLAeVekKWZ"
      },
      "outputs": [],
      "source": [
        "plt.style.use('fivethirtyeight')"
      ]
    },
    {
      "cell_type": "markdown",
      "metadata": {
        "_uuid": "0ee494fa3103f3aead92791fd958ac8e97b7beed",
        "id": "5cXTf91ekKWZ"
      },
      "source": [
        "### Histogramas"
      ]
    },
    {
      "cell_type": "code",
      "execution_count": null,
      "metadata": {
        "_kg_hide-input": true,
        "_uuid": "7e72632388acada5fd66e2323f0544af06cac54d",
        "scrolled": false,
        "id": "a6tXEGeekKWZ"
      },
      "outputs": [],
      "source": [
        "plt.figure(1 , figsize = (15 , 6))\n",
        "n = 0 \n",
        "for x in ['Age' , 'Income' , 'Score']:\n",
        "    n += 1\n",
        "    plt.subplot(1 , 3 , n)\n",
        "    plt.subplots_adjust(hspace =0.5 , wspace = 0.5)\n",
        "    sns.distplot(df[x] , bins = 20)\n",
        "    plt.title('Distplot of {}'.format(x))\n",
        "plt.show()"
      ]
    },
    {
      "cell_type": "markdown",
      "metadata": {
        "_uuid": "f3b491e34170ac1ee8e670bf1292fb8e451d5053",
        "id": "DvKlK4DqkKWa"
      },
      "source": [
        "### Gender"
      ]
    },
    {
      "cell_type": "code",
      "execution_count": null,
      "metadata": {
        "_kg_hide-input": true,
        "_uuid": "befa7a57e4e37f96c8644b24e6982f354e964864",
        "id": "emUCXbpskKWa"
      },
      "outputs": [],
      "source": [
        "plt.figure(1 , figsize = (15 , 5))\n",
        "sns.countplot(y = 'Gender' , data = df)\n",
        "plt.show()"
      ]
    },
    {
      "cell_type": "markdown",
      "metadata": {
        "_uuid": "fcc79189184015bc626be9264fbd2836b2ebad8c",
        "id": "owSbjv-WkKWa"
      },
      "source": [
        "### Relação entre Age, Income e Score"
      ]
    },
    {
      "cell_type": "code",
      "execution_count": null,
      "metadata": {
        "_kg_hide-input": true,
        "_uuid": "89e99c64c4e69e1141090185da444c8991e5ce8f",
        "id": "eRU3xAf-kKWb"
      },
      "outputs": [],
      "source": [
        "plt.figure(1 , figsize = (15 , 7))\n",
        "n = 0 \n",
        "for x in ['Age' , 'Income' , 'Score']:\n",
        "    for y in ['Age' , 'Income' , 'Score']:\n",
        "        n += 1\n",
        "        plt.subplot(3 , 3 , n)\n",
        "        plt.subplots_adjust(hspace = 0.5 , wspace = 0.5)\n",
        "        sns.regplot(x = x , y = y , data = df)\n",
        "        plt.ylabel(y.split()[0]+' '+y.split()[1] if len(y.split()) > 1 else y )\n",
        "plt.show()"
      ]
    },
    {
      "cell_type": "code",
      "execution_count": null,
      "metadata": {
        "_kg_hide-input": true,
        "_uuid": "18679353d562a05276b4ece94738f06b6b1e7d5b",
        "id": "ZHC5ztYhkKWb"
      },
      "outputs": [],
      "source": [
        "plt.figure(1 , figsize = (15 , 6))\n",
        "for gender in ['Male' , 'Female']:\n",
        "    plt.scatter(x = 'Age' , y = 'Income' , data = df[df['Gender'] == gender] ,\n",
        "                s = 200 , alpha = 0.5 , label = gender)\n",
        "plt.xlabel('Age'), plt.ylabel('Income') \n",
        "plt.title('Age vs Income')\n",
        "plt.legend()\n",
        "plt.show()"
      ]
    },
    {
      "cell_type": "code",
      "execution_count": null,
      "metadata": {
        "_kg_hide-input": true,
        "_uuid": "0cc3399fa8aebfa774c7ba298ee998e323c6c86b",
        "id": "rk_Rm4LkkKWb"
      },
      "outputs": [],
      "source": [
        "plt.figure(1 , figsize = (15 , 6))\n",
        "for gender in ['Male' , 'Female']:\n",
        "    plt.scatter(x = 'Income',y = 'Score' ,\n",
        "                data = df[df['Gender'] == gender] ,s = 200 , alpha = 0.5 , label = gender)\n",
        "plt.xlabel('Income'), plt.ylabel('Score') \n",
        "plt.title('Income vs Score')\n",
        "plt.legend()\n",
        "plt.show()"
      ]
    },
    {
      "cell_type": "markdown",
      "metadata": {
        "_uuid": "9f55e102bd9a6ec847ec61fa67479f21cafa7fde",
        "id": "fmF8v70bkKWc"
      },
      "source": [
        "### Distribuição de valores: Age, Income e Score (por Gênero/Gender)"
      ]
    },
    {
      "cell_type": "code",
      "execution_count": null,
      "metadata": {
        "_kg_hide-input": true,
        "_uuid": "c0b99c70642918f21368920c3d3fb42207539eae",
        "scrolled": false,
        "id": "LcA093wUkKWc"
      },
      "outputs": [],
      "source": [
        "plt.figure(1 , figsize = (15 , 7))\n",
        "n = 0 \n",
        "for cols in ['Age' , 'Income' , 'Score']:\n",
        "    n += 1 \n",
        "    plt.subplot(1 , 3 , n)\n",
        "    plt.subplots_adjust(hspace = 0.5 , wspace = 0.5)\n",
        "    sns.violinplot(x = cols , y = 'Gender' , data = df , palette = 'vlag')\n",
        "    sns.swarmplot(x = cols , y = 'Gender' , data = df)\n",
        "    plt.ylabel('Gender' if n == 1 else '')\n",
        "    plt.title('Boxplots & Swarmplots' if n == 2 else '')\n",
        "plt.show()"
      ]
    },
    {
      "cell_type": "markdown",
      "metadata": {
        "_uuid": "ab264c94de58ad05158ad3bfd95a9fd35f4106de",
        "id": "a9E7KxuCkKWc"
      },
      "source": [
        "# **Clusterização com K- means**"
      ]
    },
    {
      "cell_type": "markdown",
      "source": [
        "## 1. Segmentação usando Age e Score"
      ],
      "metadata": {
        "id": "_rdFu7GBTd1_"
      }
    },
    {
      "cell_type": "code",
      "execution_count": null,
      "metadata": {
        "_uuid": "4f97c1afeb25bf42b8535f92cfece17b83ab3f26",
        "id": "SylzF7eYkKWc"
      },
      "outputs": [],
      "source": [
        "'''Age e Score'''\n",
        "X1 = df[['Age' , 'Score']].iloc[: , :].values\n",
        "inertia = []\n",
        "for n in range(1 , 11):\n",
        "    algorithm = (KMeans(n_clusters = n ,init='k-means++', n_init = 10 ,max_iter=300, \n",
        "                        tol=0.0001,  random_state= 111  , algorithm='elkan') )\n",
        "    algorithm.fit(X1)\n",
        "    inertia.append(algorithm.inertia_)"
      ]
    },
    {
      "cell_type": "markdown",
      "metadata": {
        "_uuid": "d0f7c7370e95de02ad7deb7cd52aba9a6466b940",
        "id": "enAezCbfkKWc"
      },
      "source": [
        "### Escolhendo K com base no método do **Cotovelo**\n",
        "\n",
        "A Curva de Cotovelo (ou Método Elbow Curve) testa a variância dos dados em relação ao número de clusters. \n",
        "\n",
        "* O valor ideal de `K` é aquele que tem um menor Within Sum of Squares (WSS) e ao mesmo tempo o menor número de clusters. \n",
        "\n",
        "* Chamamos de curva de cotovelo, porque a partir do ponto que seria o “cotovelo” não existe uma discrepância tão significativa em termos de variância.\n",
        "\n",
        "* No scikit-learn, o WSS pode ser obtido através do atributo inertia_. "
      ]
    },
    {
      "cell_type": "code",
      "execution_count": null,
      "metadata": {
        "_kg_hide-input": true,
        "_uuid": "b13b40170b4cfb2c2261e1a229e7af366988f120",
        "id": "t-JKKwP9kKWd"
      },
      "outputs": [],
      "source": [
        "plt.figure(1 , figsize = (15 ,6))\n",
        "plt.plot(np.arange(1 , 11) , inertia , 'o')\n",
        "plt.plot(np.arange(1 , 11) , inertia , '-' , alpha = 0.5)\n",
        "plt.xlabel('Number of Clusters') , plt.ylabel('Inertia')\n",
        "plt.show()"
      ]
    },
    {
      "cell_type": "code",
      "execution_count": null,
      "metadata": {
        "_uuid": "e4f5806a8c9a5581292b4f16df6977d053f833b7",
        "id": "kxcEfNCakKWd"
      },
      "outputs": [],
      "source": [
        "# Vamos executar o K-means com K=4\n",
        "\n",
        "algorithm = (KMeans(n_clusters = 4 ,init='k-means++', n_init = 10 ,max_iter=300, \n",
        "                        tol=0.0001,  random_state= 111  , algorithm='elkan') )\n",
        "algorithm.fit(X1)\n",
        "labels1 = algorithm.labels_\n",
        "centroids1 = algorithm.cluster_centers_"
      ]
    },
    {
      "cell_type": "code",
      "execution_count": null,
      "metadata": {
        "_kg_hide-input": true,
        "_uuid": "5fc2c8fd38f10117e53e7007f25f6b9340847543",
        "id": "SLoCvecvkKWd"
      },
      "outputs": [],
      "source": [
        "h = 0.02\n",
        "x_min, x_max = X1[:, 0].min() - 1, X1[:, 0].max() + 1\n",
        "y_min, y_max = X1[:, 1].min() - 1, X1[:, 1].max() + 1\n",
        "xx, yy = np.meshgrid(np.arange(x_min, x_max, h), np.arange(y_min, y_max, h))\n",
        "Z = algorithm.predict(np.c_[xx.ravel(), yy.ravel()]) "
      ]
    },
    {
      "cell_type": "code",
      "execution_count": null,
      "metadata": {
        "_kg_hide-input": true,
        "_uuid": "b1c20956ada339bc4deff7eb11c8cdd5dcf919b6",
        "id": "u3BjRbkZkKWd"
      },
      "outputs": [],
      "source": [
        "plt.figure(1 , figsize = (15 , 7) )\n",
        "plt.clf()\n",
        "Z = Z.reshape(xx.shape)\n",
        "plt.imshow(Z , interpolation='nearest', \n",
        "           extent=(xx.min(), xx.max(), yy.min(), yy.max()),\n",
        "           cmap = plt.cm.Pastel2, aspect = 'auto', origin='lower')\n",
        "\n",
        "plt.scatter( x = 'Age' ,y = 'Score' , data = df , c = labels1 , \n",
        "            s = 200 )\n",
        "plt.scatter(x = centroids1[: , 0] , y =  centroids1[: , 1] , s = 300 , c = 'red' , alpha = 0.5)\n",
        "plt.ylabel('Score') , plt.xlabel('Age')\n",
        "plt.show()"
      ]
    },
    {
      "cell_type": "markdown",
      "metadata": {
        "_uuid": "74f9b70c7d0a5cd5e5efd75a884afed8f5ba6b55",
        "id": "UPTq5v4_kKWd"
      },
      "source": [
        "## 2. Segmentação usando Income e Score"
      ]
    },
    {
      "cell_type": "code",
      "execution_count": null,
      "metadata": {
        "_uuid": "50d645b4b8de36eecfa983b319ade64277a44ef4",
        "id": "hZRkXv7akKWd"
      },
      "outputs": [],
      "source": [
        "'''Income e Score'''\n",
        "X2 = df[['Income' , 'Score']].iloc[: , :].values\n",
        "inertia = []\n",
        "for n in range(1 , 11):\n",
        "    algorithm = (KMeans(n_clusters = n ,init='k-means++', n_init = 10 ,max_iter=300, \n",
        "                        tol=0.0001,  random_state= 111  , algorithm='elkan') )\n",
        "    algorithm.fit(X2)\n",
        "    inertia.append(algorithm.inertia_)"
      ]
    },
    {
      "cell_type": "code",
      "execution_count": null,
      "metadata": {
        "_kg_hide-input": true,
        "_uuid": "706408f25f2bd360f416873bcf3c413f965dd6bf",
        "scrolled": true,
        "id": "PoCsYaaGkKWe"
      },
      "outputs": [],
      "source": [
        "plt.figure(1 , figsize = (15 ,6))\n",
        "plt.plot(np.arange(1 , 11) , inertia , 'o')\n",
        "plt.plot(np.arange(1 , 11) , inertia , '-' , alpha = 0.5)\n",
        "plt.xlabel('Num. Clusters') , plt.ylabel('Inertia')\n",
        "\n",
        "plt.show()"
      ]
    },
    {
      "cell_type": "code",
      "execution_count": null,
      "metadata": {
        "_uuid": "6f29f2ac514b0dd53cd6e2056ec40633377fce53",
        "id": "GFybENCdkKWe"
      },
      "outputs": [],
      "source": [
        "# vamos executar com K=5\n",
        "\n",
        "algorithm = (KMeans(n_clusters = 5 ,init='k-means++', n_init = 10 ,max_iter=300, \n",
        "                        tol=0.0001,  random_state= 111  , algorithm='elkan') )\n",
        "algorithm.fit(X2)\n",
        "labels2 = algorithm.labels_\n",
        "centroids2 = algorithm.cluster_centers_"
      ]
    },
    {
      "cell_type": "code",
      "execution_count": null,
      "metadata": {
        "_kg_hide-input": true,
        "_uuid": "985030ed6b53ea56ecb02458a3e585b076a7702d",
        "id": "qGE2rFsukKWe"
      },
      "outputs": [],
      "source": [
        "h = 0.02\n",
        "x_min, x_max = X2[:, 0].min() - 1, X2[:, 0].max() + 1\n",
        "y_min, y_max = X2[:, 1].min() - 1, X2[:, 1].max() + 1\n",
        "xx, yy = np.meshgrid(np.arange(x_min, x_max, h), np.arange(y_min, y_max, h))\n",
        "Z2 = algorithm.predict(np.c_[xx.ravel(), yy.ravel()]) "
      ]
    },
    {
      "cell_type": "code",
      "execution_count": null,
      "metadata": {
        "_kg_hide-input": true,
        "_uuid": "331b3edad2d7a98eca26b2ddd5247f6c81b63584",
        "id": "LNNi8DKRkKWe"
      },
      "outputs": [],
      "source": [
        "plt.figure(1 , figsize = (15 , 7) )\n",
        "plt.clf()\n",
        "Z2 = Z2.reshape(xx.shape)\n",
        "plt.imshow(Z2 , interpolation='nearest', \n",
        "           extent=(xx.min(), xx.max(), yy.min(), yy.max()),\n",
        "           cmap = plt.cm.Pastel2, aspect = 'auto', origin='lower')\n",
        "\n",
        "plt.scatter( x = 'Income' ,y = 'Score' , data = df , c = labels2 , \n",
        "            s = 200 )\n",
        "plt.scatter(x = centroids2[: , 0] , y =  centroids2[: , 1] , s = 300 , c = 'red' , alpha = 0.5)\n",
        "plt.ylabel('Score') , plt.xlabel('Income')\n",
        "plt.show()"
      ]
    },
    {
      "cell_type": "markdown",
      "metadata": {
        "_uuid": "0c5fb52572554d3c9c9600bee4f3e8afdbaf186f",
        "id": "7B-d8E2ZkKWe"
      },
      "source": [
        "## 3.Segmentação usando Age, Income e Score"
      ]
    },
    {
      "cell_type": "code",
      "execution_count": null,
      "metadata": {
        "_uuid": "5796114de2c01278b7d5e5807abedaf62b97f348",
        "id": "xSxnrby5kKWe"
      },
      "outputs": [],
      "source": [
        "X3 = df[['Age' , 'Income' ,'Score']].iloc[: , :].values\n",
        "inertia = []\n",
        "for n in range(1 , 11):\n",
        "    algorithm = (KMeans(n_clusters = n ,init='k-means++', n_init = 10 ,max_iter=300, \n",
        "                        tol=0.0001,  random_state= 111  , algorithm='elkan') )\n",
        "    algorithm.fit(X3)\n",
        "    inertia.append(algorithm.inertia_)"
      ]
    },
    {
      "cell_type": "code",
      "execution_count": null,
      "metadata": {
        "_kg_hide-input": true,
        "_uuid": "43149b8677b07db3e3666b3901b536c6f98e8cdd",
        "id": "5fVrrjeikKWe"
      },
      "outputs": [],
      "source": [
        "plt.figure(1 , figsize = (15 ,6))\n",
        "plt.plot(np.arange(1 , 11) , inertia , 'o')\n",
        "plt.plot(np.arange(1 , 11) , inertia , '-' , alpha = 0.5)\n",
        "plt.xlabel('Num. Clusters') , plt.ylabel('Inertia')\n",
        "plt.show()"
      ]
    },
    {
      "cell_type": "code",
      "execution_count": null,
      "metadata": {
        "_kg_hide-input": false,
        "_uuid": "530b2a22467c0b040d515889f5351d9a47ca760a",
        "id": "msjmxzuykKWf"
      },
      "outputs": [],
      "source": [
        "# Vamos executar com K=6\n",
        "\n",
        "algorithm = (KMeans(n_clusters = 6 ,init='k-means++', n_init = 10 ,max_iter=300, \n",
        "                        tol=0.0001,  random_state= 111  , algorithm='elkan') )\n",
        "algorithm.fit(X3)\n",
        "labels3 = algorithm.labels_\n",
        "centroids3 = algorithm.cluster_centers_"
      ]
    },
    {
      "cell_type": "code",
      "execution_count": null,
      "metadata": {
        "_kg_hide-input": true,
        "_uuid": "426b9db9440eec0c170b214bf3d2611d9daf4954",
        "scrolled": false,
        "id": "5ziZ_IOxkKWf"
      },
      "outputs": [],
      "source": [
        "df['label3'] =  labels3\n",
        "trace1 = go.Scatter3d(\n",
        "    x= df['Age'],\n",
        "    y= df['Score'],\n",
        "    z= df['Income'],\n",
        "    mode='markers',\n",
        "     marker=dict(\n",
        "        color = df['label3'], \n",
        "        size= 20,\n",
        "        line=dict(\n",
        "            color= df['label3'],\n",
        "            width= 12\n",
        "        ),\n",
        "        opacity=0.8\n",
        "     )\n",
        ")\n",
        "data = [trace1]\n",
        "layout = go.Layout(\n",
        "#     margin=dict(\n",
        "#         l=0,\n",
        "#         r=0,\n",
        "#         b=0,\n",
        "#         t=0\n",
        "#     )\n",
        "    title= 'Clusters',\n",
        "    scene = dict(\n",
        "            xaxis = dict(title  = 'Age'),\n",
        "            yaxis = dict(title  = 'Score'),\n",
        "            zaxis = dict(title  = 'Income')\n",
        "        )\n",
        ")\n",
        "fig = go.Figure(data=data, layout=layout)\n",
        "py.offline.iplot(fig)"
      ]
    },
    {
      "cell_type": "markdown",
      "source": [
        "# K-means não funciona bem com dados categóricos (e.g., Gender)\n",
        "\n",
        "Explicação interessante em:\n",
        "\n",
        "https://www.ibm.com/support/pages/clustering-binary-data-k-means-should-be-avoided\n",
        "\n",
        "Algoritmos baseados no k-means para lidar com dados categóricos (k-Modes and k-Prototype):\n",
        "\n",
        "https://towardsdatascience.com/clustering-algorithm-for-data-with-mixed-categorical-and-numerical-features-d4e3a48066a0\n",
        "\n",
        "Mais detalhes para quem quiser se aprofundar:\n",
        "\n",
        "https://medium.com/analytics-vidhya/the-ultimate-guide-for-clustering-mixed-data-1eefa0b4743b"
      ],
      "metadata": {
        "id": "2mJvTzuyEt0u"
      }
    },
    {
      "cell_type": "markdown",
      "metadata": {
        "_uuid": "ab264c94de58ad05158ad3bfd95a9fd35f4106de",
        "id": "-g9BzTB-0t2P"
      },
      "source": [
        "# Incluindo o Ajuste da Escala"
      ]
    },
    {
      "cell_type": "markdown",
      "source": [
        "### Aplicando o StandardScaler"
      ],
      "metadata": {
        "id": "TaXDjd6rv7kG"
      }
    },
    {
      "cell_type": "code",
      "source": [
        "from sklearn.preprocessing import StandardScaler\n",
        "\n",
        "#lista de colunas a transformar\n",
        "cols_to_scale = ['Age', 'Income', 'Score']\n",
        "\n",
        "#fit\n",
        "scaler = StandardScaler()\n",
        "scaler.fit(df[cols_to_scale])\n",
        "\n",
        "#transform\n",
        "df[cols_to_scale] = scaler.transform(df[cols_to_scale])\n",
        "\n",
        "# mostra o head novamente\n",
        "df.head()"
      ],
      "metadata": {
        "id": "b1H1KIVY5Kgu"
      },
      "execution_count": null,
      "outputs": []
    },
    {
      "cell_type": "markdown",
      "source": [
        "### Segmentação usando Income e Score"
      ],
      "metadata": {
        "id": "9gtXd_4Zvq6l"
      }
    },
    {
      "cell_type": "code",
      "execution_count": null,
      "metadata": {
        "_uuid": "4f97c1afeb25bf42b8535f92cfece17b83ab3f26",
        "id": "quVPC6sB0t2Y"
      },
      "outputs": [],
      "source": [
        "'''Age e Score'''\n",
        "X2 = df[['Income' , 'Score']].iloc[: , :].values\n",
        "\n",
        "inertia = []\n",
        "for n in range(1 , 11):\n",
        "    algorithm = (KMeans(n_clusters = n ,init='k-means++', n_init = 10 ,max_iter=300, \n",
        "                        tol=0.0001,  random_state= 111  , algorithm='elkan') )\n",
        "    algorithm.fit(X2)\n",
        "    inertia.append(algorithm.inertia_)"
      ]
    },
    {
      "cell_type": "markdown",
      "metadata": {
        "_uuid": "d0f7c7370e95de02ad7deb7cd52aba9a6466b940",
        "id": "DNsP4U-E0t2Y"
      },
      "source": [
        "### Selecionando o parâmetro K"
      ]
    },
    {
      "cell_type": "code",
      "execution_count": null,
      "metadata": {
        "_kg_hide-input": true,
        "_uuid": "b13b40170b4cfb2c2261e1a229e7af366988f120",
        "id": "yHJmgHzM0t2Y"
      },
      "outputs": [],
      "source": [
        "plt.figure(1 , figsize = (15 ,6))\n",
        "plt.plot(np.arange(1 , 11) , inertia , 'o')\n",
        "plt.plot(np.arange(1 , 11) , inertia , '-' , alpha = 0.5)\n",
        "plt.xlabel('Num. Clusters') , plt.ylabel('Inertia')\n",
        "plt.show()"
      ]
    },
    {
      "cell_type": "code",
      "execution_count": null,
      "metadata": {
        "_uuid": "e4f5806a8c9a5581292b4f16df6977d053f833b7",
        "id": "0ULw7WCa0t2Z"
      },
      "outputs": [],
      "source": [
        "algorithm = (KMeans(n_clusters = 5 ,init='k-means++', n_init = 10 ,max_iter=300, \n",
        "                        tol=0.0001,  random_state= 111  , algorithm='elkan') )\n",
        "algorithm.fit(X2)\n",
        "labels2 = algorithm.labels_\n",
        "centroids2 = algorithm.cluster_centers_"
      ]
    },
    {
      "cell_type": "code",
      "execution_count": null,
      "metadata": {
        "_kg_hide-input": true,
        "_uuid": "5fc2c8fd38f10117e53e7007f25f6b9340847543",
        "id": "My1sn02y0t2Z"
      },
      "outputs": [],
      "source": [
        "h = 0.02\n",
        "x_min, x_max = X2[:, 0].min() - 1, X2[:, 0].max() + 1\n",
        "y_min, y_max = X2[:, 1].min() - 1, X2[:, 1].max() + 1\n",
        "xx, yy = np.meshgrid(np.arange(x_min, x_max, h), np.arange(y_min, y_max, h))\n",
        "Z = algorithm.predict(np.c_[xx.ravel(), yy.ravel()]) "
      ]
    },
    {
      "cell_type": "code",
      "execution_count": null,
      "metadata": {
        "_kg_hide-input": true,
        "_uuid": "b1c20956ada339bc4deff7eb11c8cdd5dcf919b6",
        "id": "u7ePNNzB0t2Z"
      },
      "outputs": [],
      "source": [
        "plt.figure(1 , figsize = (15 , 7) )\n",
        "plt.clf()\n",
        "Z = Z.reshape(xx.shape)\n",
        "plt.imshow(Z , interpolation='nearest', \n",
        "           extent=(xx.min(), xx.max(), yy.min(), yy.max()),\n",
        "           cmap = plt.cm.Pastel2, aspect = 'auto', origin='lower')\n",
        "\n",
        "plt.scatter(  x = 'Income' ,y = 'Score' , data = df , c = labels2 , \n",
        "            s = 200 )\n",
        "plt.scatter(x = centroids2[: , 0] , y =  centroids2[: , 1] , s = 300 , c = 'red' , alpha = 0.5)\n",
        "plt.ylabel('Income') , plt.xlabel('Score')\n",
        "plt.show()"
      ]
    },
    {
      "cell_type": "markdown",
      "source": [
        "# **Alternativas para a escolha da quantidade de clusters**"
      ],
      "metadata": {
        "id": "zWmiMqtYRf4b"
      }
    },
    {
      "cell_type": "markdown",
      "source": [
        "## Automatizando a busca pelo Cotovelo\n",
        "\n",
        "Método sugerido [aqui](https://github.com/bhattbhavesh91/k_means_iris_dataset/blob/master/K_in_K_means_Clustering.ipynb)."
      ],
      "metadata": {
        "id": "0x9xMzb4hqvC"
      }
    },
    {
      "cell_type": "markdown",
      "source": [
        "### Segmentação usando Income e Score"
      ],
      "metadata": {
        "id": "fpK7Q-nzh4gk"
      }
    },
    {
      "cell_type": "code",
      "execution_count": null,
      "metadata": {
        "_uuid": "4f97c1afeb25bf42b8535f92cfece17b83ab3f26",
        "id": "pDnf-G50h4gk"
      },
      "outputs": [],
      "source": [
        "'''Age e Score'''\n",
        "X2 = df[['Income' , 'Score']].iloc[: , :].values\n",
        "\n",
        "inertia = []\n",
        "for n in range(1 , 11):\n",
        "    algorithm = (KMeans(n_clusters = n ,init='k-means++', n_init = 10 ,max_iter=300, \n",
        "                        tol=0.0001,  random_state= 111  , algorithm='elkan') )\n",
        "    algorithm.fit(X2)\n",
        "    inertia.append(algorithm.inertia_)"
      ]
    },
    {
      "cell_type": "code",
      "source": [
        "plt.figure(1 , figsize = (15 ,6))\n",
        "plt.plot(np.arange(1 , 11) , inertia , 'o')\n",
        "plt.plot(np.arange(1 , 11) , inertia , '-' , alpha = 0.5)\n",
        "plt.xlabel('Num. Clusters') , plt.ylabel('Inertia')\n",
        "plt.show()"
      ],
      "metadata": {
        "id": "1KzZ8Xhwhow6"
      },
      "execution_count": null,
      "outputs": []
    },
    {
      "cell_type": "code",
      "source": [
        "plt.figure(1 , figsize = (15 ,6))\n",
        "plt.plot(np.arange(1 , 11) , inertia , 'o')\n",
        "plt.plot(np.arange(1 , 11) , inertia , '-' , alpha = 0.5)\n",
        "plt.plot([1, 10], [inertia[0], \n",
        "                        inertia[9]], 'bo-')\n",
        "plt.xlabel('Num. Clusters') , plt.ylabel('Inertia')\n",
        "plt.show()"
      ],
      "metadata": {
        "id": "Puf7J2C0h9R5"
      },
      "execution_count": null,
      "outputs": []
    },
    {
      "cell_type": "code",
      "source": [
        "x = [1, 10]\n",
        "y = [inertia[0], inertia[9]]\n",
        "\n",
        "# Calculate the coefficients. This line answers the initial question. \n",
        "coefficients = np.polyfit(x, y, 1)\n",
        "\n",
        "# Print the findings\n",
        "print ('a =', coefficients[0])\n",
        "print ('b =', coefficients[1])\n",
        "\n",
        "# Let's compute the values of the line...\n",
        "polynomial = np.poly1d(coefficients)\n",
        "x_axis = np.linspace(0,9,100)\n",
        "y_axis = polynomial(x_axis)\n",
        "\n",
        "# ...and plot the points and the line\n",
        "plt.plot(x_axis, y_axis)\n",
        "plt.grid('on')\n",
        "plt.show()"
      ],
      "metadata": {
        "id": "m4q-ozBMjUfd"
      },
      "execution_count": null,
      "outputs": []
    },
    {
      "cell_type": "code",
      "source": [
        "# Função para encontrar a distância\n",
        "# https://www.geeksforgeeks.org/perpendicular-distance-between-a-point-and-a-line-in-2-d/\n",
        "def calc_distance(x1, y1, a, b, c):\n",
        "  d = abs((a * x1 + b * y1 + c)) / (math.sqrt(a * a + b * b))\n",
        "  return d"
      ],
      "metadata": {
        "id": "fFIUzWujjtIl"
      },
      "execution_count": null,
      "outputs": []
    },
    {
      "cell_type": "code",
      "source": [
        "# (y1 – y2)x + (x2 – x1)y + (x1y2 – x2y1) = 0\n",
        "# https://bobobobo.wordpress.com/2008/01/07/solving-linear-equations-ax-by-c-0/\n",
        "a = inertia[0] - inertia[9]\n",
        "b = 10 - 1\n",
        "c1 = 1 * inertia[9]\n",
        "c2 = 10 * inertia[0]\n",
        "c = c1 - c2"
      ],
      "metadata": {
        "id": "gVa6ZZ07ju3S"
      },
      "execution_count": null,
      "outputs": []
    },
    {
      "cell_type": "code",
      "source": [
        "inertia"
      ],
      "metadata": {
        "id": "gJShFKKZkJmf"
      },
      "execution_count": null,
      "outputs": []
    },
    {
      "cell_type": "code",
      "source": [
        "import math\n",
        "\n",
        "distance_of_points_from_line = []\n",
        "for k in range(0 , 10):\n",
        "  distance_of_points_from_line.append(\n",
        "      calc_distance(k, inertia[k], a, b, c))"
      ],
      "metadata": {
        "id": "w9SoFk0BkNBf"
      },
      "execution_count": null,
      "outputs": []
    },
    {
      "cell_type": "code",
      "source": [
        "distance_of_points_from_line"
      ],
      "metadata": {
        "id": "RrcrdoAlkqYB"
      },
      "execution_count": null,
      "outputs": []
    },
    {
      "cell_type": "code",
      "source": [
        "plt.plot(range(1 , 11), distance_of_points_from_line)"
      ],
      "metadata": {
        "id": "yfW8j7tdk0wY"
      },
      "execution_count": null,
      "outputs": []
    },
    {
      "cell_type": "markdown",
      "source": [
        "## Métrica da Silhueta\n",
        "\n",
        "Verifica se média das distâncias dentro do cluster é menor que a média de distâncias até o cluster vizinho mais próximo."
      ],
      "metadata": {
        "id": "MKCMVpshUFl6"
      }
    },
    {
      "cell_type": "markdown",
      "source": [
        "### Fórmula:\n",
        "\n",
        "![image.png](data:image/png;base64,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)"
      ],
      "metadata": {
        "id": "Ej7Tf3USRwKJ"
      }
    },
    {
      "cell_type": "markdown",
      "source": [
        "### Documentação do scikit-learn:\n",
        "\n",
        "https://scikit-learn.org/stable/auto_examples/cluster/plot_kmeans_silhouette_analysis.html#sphx-glr-auto-examples-cluster-plot-kmeans-silhouette-analysis-py"
      ],
      "metadata": {
        "id": "w5oAFyeCUVBL"
      }
    },
    {
      "cell_type": "markdown",
      "source": [
        "### Exemplo com scikit-learn"
      ],
      "metadata": {
        "id": "E7SLwP-gUojo"
      }
    },
    {
      "cell_type": "code",
      "source": [
        "from sklearn.metrics import silhouette_score\n",
        "\n",
        "for n in range(2 , 11):\n",
        "    algorithm = (KMeans(n_clusters = n ,init='k-means++', n_init = 10 ,max_iter=300, \n",
        "                        tol=0.0001,  random_state= 111  , algorithm='elkan') )\n",
        "    algorithm.fit(X2)\n",
        "    labels2 = algorithm.labels_\n",
        "\n",
        "    silhouette = silhouette_score(X2, labels2)\n",
        "\n",
        "    print(\n",
        "        \"n_clusters =\",\n",
        "        n,\n",
        "        \"| silhouette_score = \",\n",
        "        silhouette\n",
        "    )"
      ],
      "metadata": {
        "id": "jbPtUrdR8mRc"
      },
      "execution_count": null,
      "outputs": []
    },
    {
      "cell_type": "markdown",
      "source": [
        "## Outras métricas\n",
        "\n",
        "https://scikit-learn.org/stable/modules/clustering.html#silhouette-coefficient"
      ],
      "metadata": {
        "id": "juyPCZ3wc22H"
      }
    },
    {
      "cell_type": "code",
      "source": [
        "from sklearn.metrics import silhouette_score , calinski_harabasz_score, davies_bouldin_score\n",
        "\n",
        "\n",
        "for n in range(2 , 11):\n",
        "    algorithm = (KMeans(n_clusters = n ,init='k-means++', n_init = 10 ,max_iter=300, \n",
        "                        tol=0.0001,  random_state= 111  , algorithm='elkan') )\n",
        "    algorithm.fit(X2)\n",
        "    labels2 = algorithm.labels_\n",
        "\n",
        "    silhouette = silhouette_score(X2, labels2) # valores mais altos são melhores\n",
        "    calinski = calinski_harabasz_score(X2, labels2) # valores mais altos são melhores\n",
        "    davies = davies_bouldin_score(X2, labels2) # valores próximos a zero são melhores\n",
        "\n",
        "    print(\n",
        "        \"n_clusters =\",\n",
        "        n,\n",
        "        \"| silhouette_score = \",\n",
        "        silhouette,\n",
        "        \"| calinski_harabasz_score = \",\n",
        "        calinski,\n",
        "        \"| davies_bouldin_score = \",\n",
        "        davies,\n",
        "    )"
      ],
      "metadata": {
        "id": "qsgmnwdDc1x9"
      },
      "execution_count": null,
      "outputs": []
    },
    {
      "cell_type": "code",
      "source": [],
      "metadata": {
        "id": "gYKgcLa8Il_b"
      },
      "execution_count": null,
      "outputs": []
    }
  ],
  "metadata": {
    "kernelspec": {
      "display_name": "Python 3",
      "language": "python",
      "name": "python3"
    },
    "language_info": {
      "codemirror_mode": {
        "name": "ipython",
        "version": 3
      },
      "file_extension": ".py",
      "mimetype": "text/x-python",
      "name": "python",
      "nbconvert_exporter": "python",
      "pygments_lexer": "ipython3",
      "version": "3.6.6"
    },
    "colab": {
      "provenance": []
    }
  },
  "nbformat": 4,
  "nbformat_minor": 0
}